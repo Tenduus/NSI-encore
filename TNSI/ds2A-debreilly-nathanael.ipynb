{
 "cells": [
  {
   "cell_type": "markdown",
   "metadata": {},
   "source": [
    "# Devoir surveillé n°2 – Partie pratique A\n",
    "\n",
    "\n",
    "## Consignes\n",
    "\n",
    "Vous devez enregister ce fichier sous le nom `ds2A-nom-prenom.ipynb`\n",
    "\n",
    "De plus vous devez créer un fichier `ds2-nom-prenom.py` qui contient le code de toutes les fonctions définies ici  y compris le code d'implémentation pour les piles que vous aurez utilisé afin de pouvoir l'importer pour la suite du développement de ce projet.\n",
    "\n",
    "À la fin de la séance, transmettez vos fichiers par mail à l'adresse `eric.madec@ecmorlaix.fr`\n",
    "\n",
    "Respectez bien le nom des fonctions pour faciliter la relecture du code.\n",
    "\n",
    "Vous pouvez rajouter des commentaires lorsque vous pensez que c’est nécessaire.\n",
    "\n",
    "De même, essayez de choisir des variables dont le nom est compréhensible, si c’est pertinent.\n",
    "\n",
    "\n",
    "# Les tours de Hanoï\n",
    "\n",
    "Les tours seront modélisées par une liste de 3 piles.\n",
    "\n",
    "Pour les piles, vous avez le choix entre deux implémentations données :\n",
    "- Dans la première, une pile est une liste Python.\n",
    "- Dans la deuxième, on définit une classe Pile qui utilise également une liste Python.\n",
    "\n",
    "Vous devez manipuler une pile uniquement avec les fonctions ou méthodes fournies."
   ]
  },
  {
   "cell_type": "code",
   "execution_count": 1,
   "metadata": {},
   "outputs": [],
   "source": [
    "# Première implémentation pour les piles :\n",
    "\n",
    "def creer_pile():\n",
    "    '''Renvoie une pile vide'''\n",
    "    return []\n",
    "\n",
    "def est_vide(pile):\n",
    "    '''Renvoie un booléen, True si la pile est vide et False sinon'''\n",
    "    return p == []\n",
    "\n",
    "def empiler(pile, element):\n",
    "    '''Empile element au sommet de pile'''\n",
    "    pile.append(element)\n",
    "    \n",
    "def depiler(pile):\n",
    "    '''Renvoie et enlève la valeur du sommet de pile'''\n",
    "    assert not est_vide(pile), \"Pile vide\"\n",
    "    return pile.pop()"
   ]
  },
  {
   "cell_type": "code",
   "execution_count": 2,
   "metadata": {},
   "outputs": [],
   "source": [
    "# Deuxième implémentation pour les piles :\n",
    "\n",
    "class Pile:\n",
    "\n",
    "    '''classe Pile création d’une instance Pile avec une liste'''\n",
    "    \n",
    "    def __init__(self):\n",
    "        '''Initialise une pile vide'''\n",
    "        self.liste = []\n",
    "        \n",
    "    def est_vide(self):\n",
    "        '''Renvoie un booléen, True si la pile est vide et False sinon'''\n",
    "        return len(self.liste) == 0\n",
    "\n",
    "    def empiler(self, element):\n",
    "        '''Empile element au sommet de pile'''\n",
    "        self.liste.append(element)\n",
    "\n",
    "    def depiler(self):\n",
    "        '''Renvoie et enlève la valeur du sommet de pile'''\n",
    "        return self.liste.pop()\n",
    "\n",
    "    def __repr__(self):\n",
    "        return repr(self.liste)"
   ]
  },
  {
   "cell_type": "markdown",
   "metadata": {},
   "source": [
    "Pour faciliter l’analyse des programmes, on se permettra d’utiliser l’affichage des listes modélisant les piles afin de voir leur contenu.\n",
    "\n",
    "Les listes et les piles étant des objets mutables, lorsque vous les modifiez dans une fonction, les modifications perdurent après son exécution.\n",
    "\n",
    "## Exercice 1 :\n",
    "\n",
    "Écrire une fonction `sommet(pile)` qui renvoie la valeur au sommet de la pile mais sans la supprimer de la pile au final.\n",
    "\n",
    "Vous pouvez dépiler, mais il faut bien rempiler la valeur avant la fin de l’exécution de la fonction.\n",
    "\n",
    "Si la pile est vide, il faut lever une exception avec raise IndexError('pile vide')."
   ]
  },
  {
   "cell_type": "code",
   "execution_count": 32,
   "metadata": {},
   "outputs": [],
   "source": [
    "# Liste Python :\n",
    "\n",
    "def sommet_liste(pile):\n",
    "    ''' Renvoie la valeur au sommet de la pile mais sans la supprimer de la pile '''\n",
    "    assert not est_vide(pile), \"La pile est vide\"\n",
    "    return pile[-1]"
   ]
  },
  {
   "cell_type": "code",
   "execution_count": 19,
   "metadata": {},
   "outputs": [],
   "source": [
    "# Classe Pile :\n",
    "\n",
    "def sommet(self):\n",
    "    ''' Renvoie la valeur au sommet de la pile mais sans la supprimer de la pile '''\n",
    "    assert not self.est_vide(), \"La pile est vide\"\n",
    "    return self.liste[-1]"
   ]
  },
  {
   "cell_type": "markdown",
   "metadata": {},
   "source": [
    "Tester votre fonction `sommet(pile)` ci-dessous de sorte que :\n",
    "\n",
    "```python \n",
    "# Première implémentation pour les piles\n",
    ">>> p = creer_pile()\n",
    ">>> sommet(p)\n",
    "IndexError: pile vide\n",
    ">>> empiler(p, 4)\n",
    ">>> empiler(p, 2)\n",
    ">>> sommet(p)\n",
    "2\n",
    "```\n",
    "```python \n",
    "# Deuxième implémentation pour les piles\n",
    ">>> p = Pile()\n",
    ">>> sommet(p)\n",
    "IndexError: pile vide\n",
    ">>> p.empiler(4)\n",
    ">>> p.empiler(2)\n",
    ">>> sommet(p)\n",
    "2\n",
    "```"
   ]
  },
  {
   "cell_type": "code",
   "execution_count": 34,
   "metadata": {},
   "outputs": [
    {
     "ename": "AssertionError",
     "evalue": "La pile est vide",
     "output_type": "error",
     "traceback": [
      "\u001b[0;31m---------------------------------------------------------------------------\u001b[0m",
      "\u001b[0;31mAssertionError\u001b[0m                            Traceback (most recent call last)",
      "Cell \u001b[0;32mIn [34], line 2\u001b[0m\n\u001b[1;32m      1\u001b[0m p \u001b[39m=\u001b[39m creer_pile()\n\u001b[0;32m----> 2\u001b[0m sommet_liste(p)\n",
      "Cell \u001b[0;32mIn [32], line 5\u001b[0m, in \u001b[0;36msommet_liste\u001b[0;34m(pile)\u001b[0m\n\u001b[1;32m      3\u001b[0m \u001b[39mdef\u001b[39;00m \u001b[39msommet_liste\u001b[39m(pile):\n\u001b[1;32m      4\u001b[0m     \u001b[39m''' Renvoie la valeur au sommet de la pile mais sans la supprimer de la pile '''\u001b[39;00m\n\u001b[0;32m----> 5\u001b[0m     \u001b[39massert\u001b[39;00m \u001b[39mnot\u001b[39;00m est_vide(pile), \u001b[39m\"\u001b[39m\u001b[39mLa pile est vide\u001b[39m\u001b[39m\"\u001b[39m\n\u001b[1;32m      6\u001b[0m     \u001b[39mreturn\u001b[39;00m pile[\u001b[39m-\u001b[39m\u001b[39m1\u001b[39m]\n",
      "\u001b[0;31mAssertionError\u001b[0m: La pile est vide"
     ]
    }
   ],
   "source": [
    "p = creer_pile()\n",
    "sommet_liste(p)"
   ]
  },
  {
   "cell_type": "code",
   "execution_count": 35,
   "metadata": {},
   "outputs": [
    {
     "data": {
      "text/plain": [
       "2"
      ]
     },
     "execution_count": 35,
     "metadata": {},
     "output_type": "execute_result"
    }
   ],
   "source": [
    "empiler(p, 4)\n",
    "empiler(p, 2)\n",
    "sommet_liste(p)"
   ]
  },
  {
   "cell_type": "code",
   "execution_count": 21,
   "metadata": {},
   "outputs": [
    {
     "ename": "AssertionError",
     "evalue": "La pile est vide",
     "output_type": "error",
     "traceback": [
      "\u001b[0;31m---------------------------------------------------------------------------\u001b[0m",
      "\u001b[0;31mAssertionError\u001b[0m                            Traceback (most recent call last)",
      "Cell \u001b[0;32mIn [21], line 2\u001b[0m\n\u001b[1;32m      1\u001b[0m p \u001b[39m=\u001b[39m Pile()\n\u001b[0;32m----> 2\u001b[0m sommet(p)\n",
      "Cell \u001b[0;32mIn [19], line 3\u001b[0m, in \u001b[0;36msommet\u001b[0;34m(self)\u001b[0m\n\u001b[1;32m      1\u001b[0m \u001b[39mdef\u001b[39;00m \u001b[39msommet\u001b[39m(\u001b[39mself\u001b[39m):\n\u001b[1;32m      2\u001b[0m     \u001b[39m''' Renvoie la valeur au sommet de la pile mais sans la supprimer de la pile '''\u001b[39;00m\n\u001b[0;32m----> 3\u001b[0m     \u001b[39massert\u001b[39;00m \u001b[39mnot\u001b[39;00m \u001b[39mself\u001b[39m\u001b[39m.\u001b[39mest_vide(), \u001b[39m\"\u001b[39m\u001b[39mLa pile est vide\u001b[39m\u001b[39m\"\u001b[39m\n\u001b[1;32m      4\u001b[0m     \u001b[39mreturn\u001b[39;00m \u001b[39mself\u001b[39m\u001b[39m.\u001b[39mliste[\u001b[39m-\u001b[39m\u001b[39m1\u001b[39m]\n",
      "\u001b[0;31mAssertionError\u001b[0m: La pile est vide"
     ]
    }
   ],
   "source": [
    "p = Pile()\n",
    "sommet(p)"
   ]
  },
  {
   "cell_type": "code",
   "execution_count": 22,
   "metadata": {},
   "outputs": [
    {
     "data": {
      "text/plain": [
       "2"
      ]
     },
     "execution_count": 22,
     "metadata": {},
     "output_type": "execute_result"
    }
   ],
   "source": [
    "p.empiler(4)\n",
    "p.empiler(2)\n",
    "sommet(p)"
   ]
  },
  {
   "cell_type": "markdown",
   "metadata": {},
   "source": [
    "\n",
    "## Exercice 2 :\n",
    "\n",
    "> Les piles de disques seront modélisées par des piles d’entiers.\n",
    "\n",
    "Écrire une fonction `mettre_disques(pile, n)` qui met des disques de taille n à 1 sur la pile.\n",
    "\n",
    "> Pour rappel, `range(a, b, -1)` avec a > b renvoie tous les entiers de a à b+1 inclus, dans l’ordre décroissant.\n",
    "> Exemple :\n",
    "> ```python\n",
    ">>> list(range(5,1,-1)) # la commande list n'est que pour l'affichage\n",
    "[5, 4, 3, 2]\n",
    "```"
   ]
  },
  {
   "cell_type": "code",
   "execution_count": 38,
   "metadata": {},
   "outputs": [],
   "source": [
    "# Liste python :\n",
    "\n",
    "def mettre_disques_liste(pile, n):\n",
    "    '''met des disques de taille n à 1 sur la pile'''\n",
    "    for i in range(n, 0, -1):\n",
    "        empiler(pile, n)\n",
    "        n -= 1\n",
    "    return pile"
   ]
  },
  {
   "cell_type": "code",
   "execution_count": 39,
   "metadata": {},
   "outputs": [],
   "source": [
    "# Classe pile :\n",
    "\n",
    "def mettre_disques(self, n):\n",
    "    '''met des disques de taille n à 1 sur la pile'''\n",
    "    for i in range(n, 0, -1):\n",
    "        self.empiler(n)\n",
    "        n -= 1\n",
    "    return self.liste"
   ]
  },
  {
   "cell_type": "markdown",
   "metadata": {},
   "source": [
    "Tester votre fonction `mettre_disques(pile, n)` ci-dessous de sorte que :\n",
    "\n",
    "```python \n",
    "# Première implémentation pour les piles\n",
    ">>> p = creer_pile()\n",
    ">>> mettre_disques(p, 5)\n",
    ">>> print(p)\n",
    "[5, 4, 3, 2, 1]\n",
    "```\n",
    "```python \n",
    "# Deuxième implémentation pour les piles\n",
    ">>> p = Pile()\n",
    ">>> mettre_disques(p, 5)\n",
    ">>> print(p)\n",
    "[5, 4, 3, 2, 1]\n",
    "```"
   ]
  },
  {
   "cell_type": "code",
   "execution_count": 40,
   "metadata": {},
   "outputs": [
    {
     "name": "stdout",
     "output_type": "stream",
     "text": [
      "[5, 4, 3, 2, 1]\n"
     ]
    }
   ],
   "source": [
    "p = creer_pile()\n",
    "mettre_disques_liste(p, 5)\n",
    "print(p)"
   ]
  },
  {
   "cell_type": "code",
   "execution_count": 26,
   "metadata": {},
   "outputs": [
    {
     "name": "stdout",
     "output_type": "stream",
     "text": [
      "[5, 4, 3, 2, 1]\n"
     ]
    }
   ],
   "source": [
    "p = Pile()\n",
    "mettre_disques(p, 5)\n",
    "print(p)"
   ]
  },
  {
   "cell_type": "markdown",
   "metadata": {},
   "source": [
    "## Exercice 3 :\n",
    "\n",
    "<img src=\"https://ericecmorlaix.github.io/img/ds2_hanoi-01.png\" alt=\"ds2_hanoi-01.png\" width=30% align='right' >\n",
    "\n",
    "> Les tours sont formées par 3 piles et seront représentées par une liste de 3 piles.\n",
    ">\n",
    "> Ainsi, des tours dont l’affichage serait celui donné ci-dessous correspondrait à la situation ci-contre.\n",
    "\n",
    "Exemple :\n",
    "\n",
    "```python\n",
    ">>>  print(tours)\n",
    "[[5, 4], [2, 1], [3]]\n",
    "```\n",
    "\n",
    "Écrire une fonction `creation_tours(n)` qui renvoie une liste de 3 piles, dont la première correspond à la pile des n disques, les autres étant vides.\n"
   ]
  },
  {
   "cell_type": "code",
   "execution_count": 41,
   "metadata": {},
   "outputs": [],
   "source": [
    "# Liste Python :\n",
    "\n",
    "def creation_tours_liste(n):\n",
    "    ''' renvoie une liste de 3 piles,\n",
    "    la première correspond à la pile des n disques,\n",
    "    les autres étant vides.'''\n",
    "    p0 = creer_pile()\n",
    "    p1 = creer_pile()\n",
    "    p2 = creer_pile()\n",
    "    mettre_disques_liste(p0, n)\n",
    "    return [p0, p1, p2]"
   ]
  },
  {
   "cell_type": "code",
   "execution_count": 30,
   "metadata": {},
   "outputs": [],
   "source": [
    "# Classe Pile :\n",
    "\n",
    "def creation_tours(n):\n",
    "    ''' renvoie une liste de 3 piles,\n",
    "    la première correspond à la pile des n disques,\n",
    "    les autres étant vides.'''\n",
    "    p0 = Pile()\n",
    "    p1 = Pile()\n",
    "    p2 = Pile()\n",
    "    mettre_disques(p0, n)\n",
    "    return [p0, p1, p2]"
   ]
  },
  {
   "cell_type": "markdown",
   "metadata": {},
   "source": [
    "Tester votre fonction `creation_tours(n)` ci-dessous de sorte que :\n",
    "\n",
    "```python\n",
    ">>> tours = creation_tours(5)\n",
    ">>> print(tours)\n",
    "[[5, 4, 3, 2, 1], [], []]\n",
    "```"
   ]
  },
  {
   "cell_type": "code",
   "execution_count": 43,
   "metadata": {},
   "outputs": [
    {
     "name": "stdout",
     "output_type": "stream",
     "text": [
      "[[5, 4, 3, 2, 1], [], []]\n"
     ]
    }
   ],
   "source": [
    "tours = creation_tours_liste(5)\n",
    "print(tours)"
   ]
  },
  {
   "cell_type": "code",
   "execution_count": 31,
   "metadata": {},
   "outputs": [
    {
     "name": "stdout",
     "output_type": "stream",
     "text": [
      "[[5, 4, 3, 2, 1], [], []]\n"
     ]
    }
   ],
   "source": [
    "tours = creation_tours(5)\n",
    "print(tours)"
   ]
  },
  {
   "cell_type": "markdown",
   "metadata": {},
   "source": [
    "## Consignes, rappels pour la suite :\n",
    "\n",
    "Vous devez enregister ce fichier sous le nom `ds2A-nom-prenom.ipynb`\n",
    "\n",
    "De plus vous devez créer un fichier `ds2-nom-prenom.py` qui contient le code de toutes les fonctions définies ici y compris le code d'implémentation pour les piles que vous avez utilisé afin de pouvoir l'importer pour la suite du développement de ce projet.\n",
    "\n",
    "À la fin de la séance, transmettez vos fichiers par mail à l'adresse `eric.madec@ecmorlaix.fr`\n",
    "\n",
    "Respectez bien le nom des fonctions pour faciliter la relecture du code.\n",
    "\n",
    "Vous pouvez rajouter des commentaires lorsque vous pensez que c’est nécessaire.\n",
    "\n",
    "De même, essayez de choisir des variables dont le nom est compréhensible, si c’est pertinent."
   ]
  }
 ],
 "metadata": {
  "kernelspec": {
   "display_name": "Python 3",
   "language": "python",
   "name": "python3"
  },
  "language_info": {
   "codemirror_mode": {
    "name": "ipython",
    "version": 3
   },
   "file_extension": ".py",
   "mimetype": "text/x-python",
   "name": "python",
   "nbconvert_exporter": "python",
   "pygments_lexer": "ipython3",
   "version": "3.8.13 (default, Oct  4 2022, 14:00:32) \n[GCC 9.4.0]"
  },
  "toc": {
   "base_numbering": 1,
   "nav_menu": {},
   "number_sections": true,
   "sideBar": true,
   "skip_h1_title": false,
   "title_cell": "Table of Contents",
   "title_sidebar": "Contents",
   "toc_cell": false,
   "toc_position": {},
   "toc_section_display": true,
   "toc_window_display": false
  },
  "varInspector": {
   "cols": {
    "lenName": 16,
    "lenType": 16,
    "lenVar": 40
   },
   "kernels_config": {
    "python": {
     "delete_cmd_postfix": "",
     "delete_cmd_prefix": "del ",
     "library": "var_list.py",
     "varRefreshCmd": "print(var_dic_list())"
    },
    "r": {
     "delete_cmd_postfix": ") ",
     "delete_cmd_prefix": "rm(",
     "library": "var_list.r",
     "varRefreshCmd": "cat(var_dic_list()) "
    }
   },
   "types_to_exclude": [
    "module",
    "function",
    "builtin_function_or_method",
    "instance",
    "_Feature"
   ],
   "window_display": false
  },
  "vscode": {
   "interpreter": {
    "hash": "9ac03a0a6051494cc606d484d27d20fce22fb7b4d169f583271e11d5ba46a56e"
   }
  }
 },
 "nbformat": 4,
 "nbformat_minor": 4
}
