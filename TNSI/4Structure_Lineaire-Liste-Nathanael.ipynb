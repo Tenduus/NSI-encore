{
 "cells": [
  {
   "cell_type": "markdown",
   "metadata": {},
   "source": [
    "# Structure linéaire de données : Liste\n",
    "\n",
    "En informatique on manipule essentiellement des données.\n",
    "\n",
    "Une structure de données est une organisation logique des données permettant de simplifier ou d'accélérer leur traitement.\n",
    "\n",
    "## Du déjà vu :\n",
    "\n",
    "\n",
    "### Les types simples :\n",
    "\n",
    "Pour des données simples comme des nombres, des chaînes de caractères ou des booléens, on peut les stocker dans des variables qui seront typées en fonction de la nature de la donnée : `int`, `float`, `str`, `bool`."
   ]
  },
  {
   "cell_type": "code",
   "execution_count": 1,
   "metadata": {},
   "outputs": [
    {
     "data": {
      "text/plain": [
       "('Hello World!', str)"
      ]
     },
     "execution_count": 1,
     "metadata": {},
     "output_type": "execute_result"
    }
   ],
   "source": [
    "maPremiereVariable = 'Hello World!'\n",
    "maPremiereVariable, type(maPremiereVariable)"
   ]
  },
  {
   "cell_type": "code",
   "execution_count": 2,
   "metadata": {},
   "outputs": [
    {
     "data": {
      "text/plain": [
       "(-5, int)"
      ]
     },
     "execution_count": 2,
     "metadata": {},
     "output_type": "execute_result"
    }
   ],
   "source": [
    "maSecondeVariable = -5\n",
    "maSecondeVariable, type(maSecondeVariable)"
   ]
  },
  {
   "cell_type": "code",
   "execution_count": 3,
   "metadata": {},
   "outputs": [
    {
     "data": {
      "text/plain": [
       "(5.0, float)"
      ]
     },
     "execution_count": 3,
     "metadata": {},
     "output_type": "execute_result"
    }
   ],
   "source": [
    "maTroisiemeVariable = 5.0\n",
    "maTroisiemeVariable, type(maTroisiemeVariable)"
   ]
  },
  {
   "cell_type": "code",
   "execution_count": 4,
   "metadata": {},
   "outputs": [
    {
     "data": {
      "text/plain": [
       "(False, bool)"
      ]
     },
     "execution_count": 4,
     "metadata": {},
     "output_type": "execute_result"
    }
   ],
   "source": [
    "maQuatriemeVariable = ( 0 == 1 )\n",
    "maQuatriemeVariable, type(maQuatriemeVariable)"
   ]
  },
  {
   "cell_type": "markdown",
   "metadata": {},
   "source": [
    "### Les types construits :\n",
    "\n",
    "Lorsque l’on a besoin de manipuler un grand nombre de données, qu’elles soient de même type ou pas, on utilise des structures de données comme les tuples, les listes, les tableaux ou les dictionnaires : `tuple`,`list`, `dict`."
   ]
  },
  {
   "cell_type": "code",
   "execution_count": 5,
   "metadata": {},
   "outputs": [
    {
     "data": {
      "text/plain": [
       "((3.14, 'cours NSI', True, 5), 'cours NSI', tuple)"
      ]
     },
     "execution_count": 5,
     "metadata": {},
     "output_type": "execute_result"
    }
   ],
   "source": [
    "monTuple=(3.14, \"cours NSI\", True, 5)\n",
    "monTuple, monTuple[1], type(monTuple)"
   ]
  },
  {
   "cell_type": "code",
   "execution_count": 6,
   "metadata": {},
   "outputs": [
    {
     "data": {
      "text/plain": [
       "([3.14, 'cours NSI', True, 5], 'cours NSI', list)"
      ]
     },
     "execution_count": 6,
     "metadata": {},
     "output_type": "execute_result"
    }
   ],
   "source": [
    "maListe=[3.14, \"cours NSI\", True, 5]\n",
    "maListe, maListe[1], type(maListe)"
   ]
  },
  {
   "cell_type": "code",
   "execution_count": 7,
   "metadata": {},
   "outputs": [
    {
     "data": {
      "text/plain": [
       "({'zero': 0, 'un': 1, 'deux': 2, 'trois': 3}, 0, dict)"
      ]
     },
     "execution_count": 7,
     "metadata": {},
     "output_type": "execute_result"
    }
   ],
   "source": [
    "monDictionnaire = {'zero':0, 'un':1, 'deux':2,'trois':3}\n",
    "monDictionnaire, monDictionnaire['zero'], type(monDictionnaire)"
   ]
  },
  {
   "cell_type": "code",
   "execution_count": 8,
   "metadata": {},
   "outputs": [
    {
     "data": {
      "text/plain": [
       "([[1, 2, 3, 4], ['toto', 'titi', 'tata'], [-3.14, 0.5, 1, 2.35, 6.48]],\n",
       " 'toto',\n",
       " list)"
      ]
     },
     "execution_count": 8,
     "metadata": {},
     "output_type": "execute_result"
    }
   ],
   "source": [
    "monTableau = [[1,2,3,4],[\"toto\",\"titi\",\"tata\"], [-3.14, 0.5, 1, 2.35, 6.48]]\n",
    "monTableau, monTableau[1][0], type(monTableau)"
   ]
  },
  {
   "cell_type": "markdown",
   "metadata": {},
   "source": [
    "> Les chaînes de caractères, les tuples et les listes sont des séquences, c’est à dire des suites ordonnées d’éléments indexés par une suite d’entiers.\n",
    ">\n",
    "> Avec :\n",
    "> - Chaînes de caractères et tuples sont non mutables (on ne peut les modifier)\n",
    "> - Les listes sont mutables\n",
    "> - Un tableau est une liste de liste\n",
    "> - Tuples et listes peuvent contenir des éléments de n’importe quel type, y compris d’autres tuples, listes ou encore des dictionnaires...\n",
    "> - Chacun de ces types dits construits possède un certain nombre de méthodes qui permettent d’agir sur l’objet (ajout, suppression, tris etc...)\n",
    "> - Dans un dictionnaire les éléments sont indexés par des clés et sont modifiables."
   ]
  },
  {
   "cell_type": "markdown",
   "metadata": {},
   "source": [
    "## Type abstrait de donnée (TAD) :\n",
    "\n",
    "Une **structure de données** est donc une manière de stocker, d'accéder à, et de manipuler des données.\n",
    "\n",
    "L'**interface** de la structure de données décrit de quelle manière on peut la manipuler, comme `append` pour le type `list`.\n",
    "\n",
    "L'**implémentation** de la structure de données, contient, quant à elle, le code de ces méthodes (comment fait Python). Il n'est pas nécessaire de connaitre l'implémentation pour manipuler la structure de données.\n",
    "\n",
    "Un **type abstrait** décrit essentiellement une interface, indépendamment du langage de programmation."
   ]
  },
  {
   "cell_type": "markdown",
   "metadata": {},
   "source": [
    "## Les listes (les vraies !) :\n",
    "\n",
    "> La structure de liste est assez facile à imaginer comme une suite d'éléments ordonnés par leurs indices.\n",
    ">\n",
    ">$$a_0 , a_1 , a_2 , ... , a_n$$\n",
    ">\n",
    "> Dans cette partie on s'intéresse aux listes d'un point de vue \"structure de données\", celles que les informaticiens appellent vraiment des listes et non pas aux listes Python qui sont une implémentation spécifique à Python de la notion de liste.\n",
    "\n",
    "### Définition :\n",
    "\n",
    "Une liste est une structure de données permettant de regrouper des données.\n",
    "\n",
    "Elle est composée de 2 parties :\n",
    "- sa tête notée \"car\" (pour : contents of address register), qui correspond au dernier élément ajouté à la liste.\n",
    "- sa queue notée \"cdr\" (pour : contents of decrement register), qui correspond au reste de la liste.\n",
    "\n",
    "Le langage de programmation Lisp (inventé par John McCarthy en 1958) a été un des premiers langages de programmation à introduire cette notion de liste (Lisp signifie \"list processing\").\n",
    "\n",
    "Voici les opérations qui peuvent être effectuées sur une liste :\n",
    "- créer une liste vide (souvent notée nil)\n",
    "- tester si une liste est vide\n",
    "- ajouter un élément en tête de liste\n",
    "- supprimer la tête d’une liste et renvoyer cette tête\n",
    "- compter le nombre d’éléments présents dans une liste\n",
    "- un constructeur, historiquement appelé \"cons\", qui permet d’obtenir une nouvelle liste à partir d’une liste et d’un élément (L1 = cons(x,L)).\n",
    "Il est possible **d’enchaîner** les \"cons\" et d’obtenir ce genre de structure :\n",
    "cons(x, cons(y, cons(z,L)))\n",
    "\n",
    "Voici la représentation schématique d’une liste comportant, dans cet ordre, les trois éléments 1, 2 et 4.\n",
    "\n",
    "<img src=\"https://ericecmorlaix.github.io/img/SLD-Liste.png\" alt=\"SLD-Liste.png\" title=\"Liste chainee\" width=60% >\n",
    "\n",
    "La liste est constituée de trois cellules, représentées ici par des rectangles.\n",
    "\n",
    "Chaque cellule possède une première partie, nommée \"car\" , qui contient l’entier correspondant, et d’une deuxième partie, nommée \"cdr\" , qui contient un lien vers la cellule suivante.\n",
    "\n",
    "On a donc affaire à une chaîne de cellules, ce qui justifie la dénomination courante de **liste chaînée**.\n",
    "\n",
    "Le champ \"cdr\" de la dernière cellule renvoie vers une liste vide, conventionnellement représentée par un hachurage.\n",
    "\n",
    "On aura noté que le premier champ d’une cellule contient ici un entier (car on considère une liste d’entiers) alors que le deuxième est une liste, c’est-à-dire un lien vers une autre cellule.\n",
    "\n",
    "Nous avons défini les contours de la structure de liste. Celle-ci est un concept (\"une vue de l’esprit\") de ce qu’est une liste.\n",
    "\n",
    "On dit que c’est un un **type abstrait de données**, **TAD**.\n",
    "\n",
    "Pour implémenter cette structure il faudra, quelque soit le langage utilisé, que l’implémentation permette de retrouver les fonctions qui ont été définies pour le type abstrait."
   ]
  },
  {
   "cell_type": "markdown",
   "metadata": {},
   "source": [
    "## Implémentation :\n",
    "\n",
    "### Version 1 :\n",
    "\n",
    "En utilisant des tuples pour implémenter la structure de liste.\n",
    "\n",
    "<img src=\"https://ericecmorlaix.github.io/img/SLD-ListeTuple.png\" alt=\"SLD-ListeTuple.png\" title=\"Liste par Tuple\" width=60% >"
   ]
  },
  {
   "cell_type": "code",
   "execution_count": 1,
   "metadata": {},
   "outputs": [],
   "source": [
    "def vide():\n",
    "    return None\n",
    "def cons(x,L):\n",
    "    return(x,L)\n",
    "def ajouteEnTete(L,x):\n",
    "    return cons(x,L)\n",
    "def supprEnTete(L):\n",
    "    return (L[0],L[1])\n",
    "def estVide(L):\n",
    "    return L is None\n",
    "def compte(L):\n",
    "    if estVide(L):\n",
    "        return 0\n",
    "    return 1 + compte(L[1])"
   ]
  },
  {
   "cell_type": "code",
   "execution_count": 2,
   "metadata": {},
   "outputs": [
    {
     "data": {
      "text/plain": [
       "5"
      ]
     },
     "execution_count": 2,
     "metadata": {},
     "output_type": "execute_result"
    }
   ],
   "source": [
    "nil = vide()\n",
    "estVide(nil)\n",
    "L = cons(5, cons(4, cons(3, cons(2, cons(1, cons(0,nil))))))\n",
    "estVide(L)\n",
    "compte(L)\n",
    "L = ajouteEnTete(L,6)\n",
    "compte(L)\n",
    "x,L=supprEnTete(L)\n",
    "x\n",
    "compte(L)\n",
    "x, L=supprEnTete(L)\n",
    "x\n",
    "compte(L) "
   ]
  },
  {
   "cell_type": "markdown",
   "metadata": {},
   "source": [
    "<h3 class='fa fa-cog' style=\"color: MediumSeaGreen\"> A faire vous même n°1 :</h3>\n",
    "\n",
    "Vérifier le bon fonctionnement de cette implémentation en exécutant ces instructions:\n",
    "\n",
    "- nil = vide()\n",
    "- afficher estVide(nil)\n",
    "- L = cons(5, cons(4, cons(3, cons(2, cons(1, cons(0,nil))))))\n",
    "- afficher estVide(L)\n",
    "- afficher compte(L)\n",
    "- L = ajouteEnTete(L,6)\n",
    "- afficher compte(L)\n",
    "- x, L=supprEnTete(L)\n",
    "- afficher x\n",
    "- afficher compte(L)\n",
    "- x, L=supprEnTete(L)\n",
    "- afficher x\n",
    "- afficher compte(L)"
   ]
  },
  {
   "cell_type": "code",
   "execution_count": 3,
   "metadata": {},
   "outputs": [
    {
     "data": {
      "text/plain": [
       "True"
      ]
     },
     "execution_count": 3,
     "metadata": {},
     "output_type": "execute_result"
    }
   ],
   "source": [
    "nil = vide()\n",
    "estVide(nil)"
   ]
  },
  {
   "cell_type": "code",
   "execution_count": 5,
   "metadata": {},
   "outputs": [
    {
     "data": {
      "text/plain": [
       "False"
      ]
     },
     "execution_count": 5,
     "metadata": {},
     "output_type": "execute_result"
    }
   ],
   "source": [
    "L = cons(5, cons(4, cons(3, cons(2, cons(1, cons(0,nil))))))\n",
    "estVide(L)"
   ]
  },
  {
   "cell_type": "code",
   "execution_count": 6,
   "metadata": {},
   "outputs": [
    {
     "data": {
      "text/plain": [
       "6"
      ]
     },
     "execution_count": 6,
     "metadata": {},
     "output_type": "execute_result"
    }
   ],
   "source": [
    "compte(L)"
   ]
  },
  {
   "cell_type": "code",
   "execution_count": 7,
   "metadata": {},
   "outputs": [
    {
     "data": {
      "text/plain": [
       "7"
      ]
     },
     "execution_count": 7,
     "metadata": {},
     "output_type": "execute_result"
    }
   ],
   "source": [
    "L = ajouteEnTete(L,6)\n",
    "compte(L)"
   ]
  },
  {
   "cell_type": "code",
   "execution_count": 8,
   "metadata": {},
   "outputs": [
    {
     "data": {
      "text/plain": [
       "6"
      ]
     },
     "execution_count": 8,
     "metadata": {},
     "output_type": "execute_result"
    }
   ],
   "source": [
    "x, L=supprEnTete(L)\n",
    "x"
   ]
  },
  {
   "cell_type": "code",
   "execution_count": 9,
   "metadata": {},
   "outputs": [
    {
     "data": {
      "text/plain": [
       "6"
      ]
     },
     "execution_count": 9,
     "metadata": {},
     "output_type": "execute_result"
    }
   ],
   "source": [
    "compte(L)"
   ]
  },
  {
   "cell_type": "code",
   "execution_count": 10,
   "metadata": {},
   "outputs": [
    {
     "data": {
      "text/plain": [
       "5"
      ]
     },
     "execution_count": 10,
     "metadata": {},
     "output_type": "execute_result"
    }
   ],
   "source": [
    "x, L=supprEnTete(L)\n",
    "x"
   ]
  },
  {
   "cell_type": "code",
   "execution_count": 11,
   "metadata": {},
   "outputs": [
    {
     "data": {
      "text/plain": [
       "5"
      ]
     },
     "execution_count": 11,
     "metadata": {},
     "output_type": "execute_result"
    }
   ],
   "source": [
    "compte(L)"
   ]
  },
  {
   "cell_type": "markdown",
   "metadata": {},
   "source": [
    "### Version 2 :\n",
    "\n",
    "Cette fois-ci on utilise deux classes :\n",
    "\n",
    "La classe Cellule qui crée un objet (instance) cellule avec les attributs \"car\" et \"cdr\""
   ]
  },
  {
   "cell_type": "code",
   "execution_count": 12,
   "metadata": {},
   "outputs": [],
   "source": [
    "class Cellule:\n",
    "    def __init__(self, tete, queue):\n",
    "        self.car = tete\n",
    "        self.cdr = queue"
   ]
  },
  {
   "cell_type": "markdown",
   "metadata": {},
   "source": [
    "La classe Liste dont les instances (objets) seront de type Cellule, avec quelques méthodes :"
   ]
  },
  {
   "cell_type": "code",
   "execution_count": 13,
   "metadata": {},
   "outputs": [],
   "source": [
    "class Liste:\n",
    "    def __init__(self, c):\n",
    "        self.cellule = c\n",
    "    def estVide(self):\n",
    "        return self.cellule is None\n",
    "    def car(self):\n",
    "        assert not(self.cellule is None), \"Liste vide\"\n",
    "        return self.cellule.car\n",
    "    def cdr(self):\n",
    "        assert not(self.cellule is None), \"Liste vide\"\n",
    "        return self.cellule.cdr"
   ]
  },
  {
   "cell_type": "markdown",
   "metadata": {},
   "source": [
    "La fonction \"cons\" qui permet de construire la liste :"
   ]
  },
  {
   "cell_type": "code",
   "execution_count": 14,
   "metadata": {},
   "outputs": [],
   "source": [
    "def cons(tete, queue):\n",
    "    return Liste(Cellule(tete, queue))"
   ]
  },
  {
   "cell_type": "markdown",
   "metadata": {},
   "source": [
    "Ainsi pour créer une la liste `L = [5, 4, 3, 2, 1, 0]`, il suffit d’exécuter les instructions :"
   ]
  },
  {
   "cell_type": "code",
   "execution_count": 15,
   "metadata": {},
   "outputs": [],
   "source": [
    "nil=Liste(None)\n",
    "L = cons(5, cons(4, cons(3, cons(2, cons(1, cons(0,nil))))))"
   ]
  },
  {
   "cell_type": "markdown",
   "metadata": {},
   "source": [
    "<h3 class='fa fa-cog' style=\"color: MediumSeaGreen\"> A faire vous même n°2 :</h3>\n",
    "\n",
    "Tester les instructions suivantes :\n",
    "\n",
    "```Python\n",
    "print(L.estVide())\n",
    "print(L.car())\n",
    "print(L.cdr().car())\n",
    "print(L.cdr().cdr().car())\n",
    "```\n",
    "et écrire l’instruction qui permet d’afficher le dernier élément de la liste : \"print(L.car())\""
   ]
  },
  {
   "cell_type": "code",
   "execution_count": 19,
   "metadata": {},
   "outputs": [
    {
     "name": "stdout",
     "output_type": "stream",
     "text": [
      "False\n"
     ]
    }
   ],
   "source": [
    "print(L.estVide())"
   ]
  },
  {
   "cell_type": "code",
   "execution_count": 20,
   "metadata": {},
   "outputs": [
    {
     "name": "stdout",
     "output_type": "stream",
     "text": [
      "5\n"
     ]
    }
   ],
   "source": [
    "print(L.car())"
   ]
  },
  {
   "cell_type": "code",
   "execution_count": 21,
   "metadata": {},
   "outputs": [
    {
     "name": "stdout",
     "output_type": "stream",
     "text": [
      "4\n"
     ]
    }
   ],
   "source": [
    "print(L.cdr().car())"
   ]
  },
  {
   "cell_type": "code",
   "execution_count": 22,
   "metadata": {},
   "outputs": [
    {
     "name": "stdout",
     "output_type": "stream",
     "text": [
      "3\n"
     ]
    }
   ],
   "source": [
    "print(L.cdr().cdr().car())"
   ]
  },
  {
   "cell_type": "markdown",
   "metadata": {},
   "source": [
    "<h3 class='fa fa-cog' style=\"color: MediumSeaGreen\"> A faire vous même n°3 :</h3>\n",
    "\n",
    "Ajouter les fonctions suivantes :\n",
    "\n",
    "\n",
    "```Python\n",
    "def longueurListe(L):\n",
    "    n = 0\n",
    "    while not(L.estVide()):\n",
    "        n += 1\n",
    "        L = L.cdr()\n",
    "    return n\n",
    "```\n",
    "```Python\n",
    "def listeElements(L):\n",
    "    t = []\n",
    "    while not(L.estVide()):\n",
    "        t.append(L.car())\n",
    "        L = L.cdr()\n",
    "    return t\n",
    "```"
   ]
  },
  {
   "cell_type": "code",
   "execution_count": 23,
   "metadata": {},
   "outputs": [],
   "source": [
    "def longueurListe(L):\n",
    "    n = 0\n",
    "    while not(L.estVide()):\n",
    "        n += 1\n",
    "        L = L.cdr()\n",
    "    return n\n",
    "    \n",
    "def listeElements(L):\n",
    "    t = []\n",
    "    while not(L.estVide()):\n",
    "        t.append(L.car())\n",
    "        L = L.cdr()\n",
    "    return t"
   ]
  },
  {
   "cell_type": "code",
   "execution_count": 26,
   "metadata": {},
   "outputs": [
    {
     "data": {
      "text/plain": [
       "6"
      ]
     },
     "execution_count": 26,
     "metadata": {},
     "output_type": "execute_result"
    }
   ],
   "source": [
    "L = cons(5, cons(4, cons(3, cons(2, cons(1, cons(0,nil))))))\n",
    "longueurListe(L)"
   ]
  },
  {
   "cell_type": "code",
   "execution_count": 27,
   "metadata": {},
   "outputs": [
    {
     "data": {
      "text/plain": [
       "[5, 4, 3, 2, 1, 0]"
      ]
     },
     "execution_count": 27,
     "metadata": {},
     "output_type": "execute_result"
    }
   ],
   "source": [
    "L = cons(5, cons(4, cons(3, cons(2, cons(1, cons(0,nil))))))\n",
    "listeElements(L)"
   ]
  },
  {
   "cell_type": "markdown",
   "metadata": {},
   "source": [
    "Que font-elles ?\n",
    "\n",
    "• La première permet de renvoyer la longueur d'une liste en la parcourant \n",
    "\n",
    "• La deuxième permet d'afficher les élements d'une liste."
   ]
  },
  {
   "cell_type": "markdown",
   "metadata": {},
   "source": [
    "<h3 class='fa fa-cog' style=\"color: MediumSeaGreen\"> A faire vous même n°4 :</h3>\n",
    "\n",
    "Que produit l’instruction :\n",
    "\n",
    "```Python\n",
    "L = cons(6,L)\n",
    "```"
   ]
  },
  {
   "cell_type": "code",
   "execution_count": 31,
   "metadata": {},
   "outputs": [
    {
     "data": {
      "text/plain": [
       "[5, 4, 3, 2, 1, 0]"
      ]
     },
     "execution_count": 31,
     "metadata": {},
     "output_type": "execute_result"
    }
   ],
   "source": [
    "L = cons(5, cons(4, cons(3, cons(2, cons(1, cons(0,nil))))))\n",
    "listeElements(L)"
   ]
  },
  {
   "cell_type": "code",
   "execution_count": 32,
   "metadata": {},
   "outputs": [
    {
     "data": {
      "text/plain": [
       "[6, 5, 4, 3, 2, 1, 0]"
      ]
     },
     "execution_count": 32,
     "metadata": {},
     "output_type": "execute_result"
    }
   ],
   "source": [
    "L = cons(6,L)\n",
    "listeElements(L)"
   ]
  },
  {
   "cell_type": "markdown",
   "metadata": {},
   "source": [
    "Cette instruction permet d'ajouter un élément à l'entête d'une liste."
   ]
  },
  {
   "cell_type": "markdown",
   "metadata": {},
   "source": [
    "<h3 class='fa fa-cog' style=\"color: MediumSeaGreen\"> A faire vous même n°5 :</h3>\n",
    "\n",
    "Écrire une fonction `ajouteEnTete` qui prend en paramètre une liste et un nombre et qui renvoie une liste dans laquelle le nombre a été ajouté en entête."
   ]
  },
  {
   "cell_type": "code",
   "execution_count": 33,
   "metadata": {},
   "outputs": [],
   "source": [
    "def ajouteEnTete(L, x):\n",
    "    return listeElements(cons(x,L))"
   ]
  },
  {
   "cell_type": "code",
   "execution_count": 37,
   "metadata": {},
   "outputs": [
    {
     "data": {
      "text/plain": [
       "[6, 5, 4, 3, 2, 1, 0]"
      ]
     },
     "execution_count": 37,
     "metadata": {},
     "output_type": "execute_result"
    }
   ],
   "source": [
    "test = cons(5, cons(4, cons(3, cons(2, cons(1, cons(0,nil))))))\n",
    "ajouteEnTete(test, 6)"
   ]
  },
  {
   "cell_type": "markdown",
   "metadata": {},
   "source": [
    "<h3 class='fa fa-cog' style=\"color: MediumSeaGreen\"> A faire vous même n°6 :</h3>\n",
    "\n",
    "Que produisent les instructions :\n",
    "\n",
    "```Python\n",
    "x = L.car()\n",
    "L = cons(L.cdr().car(),L.cdr().cdr())\n",
    "```"
   ]
  },
  {
   "cell_type": "code",
   "execution_count": 17,
   "metadata": {},
   "outputs": [],
   "source": [
    "L = cons(5, cons(4, cons(3, cons(2, cons(1, cons(0,nil))))))"
   ]
  },
  {
   "cell_type": "code",
   "execution_count": 38,
   "metadata": {},
   "outputs": [
    {
     "data": {
      "text/plain": [
       "5"
      ]
     },
     "execution_count": 38,
     "metadata": {},
     "output_type": "execute_result"
    }
   ],
   "source": [
    "L = cons(5, cons(4, cons(3, cons(2, cons(1, cons(0,nil))))))\n",
    "x = L.car()\n",
    "x"
   ]
  },
  {
   "cell_type": "code",
   "execution_count": 40,
   "metadata": {},
   "outputs": [
    {
     "data": {
      "text/plain": [
       "[4, 3, 2, 1, 0]"
      ]
     },
     "execution_count": 40,
     "metadata": {},
     "output_type": "execute_result"
    }
   ],
   "source": [
    "L = cons(5, cons(4, cons(3, cons(2, cons(1, cons(0,nil))))))\n",
    "L = cons(L.cdr().car(), L.cdr().cdr())\n",
    "listeElements(L)"
   ]
  },
  {
   "cell_type": "markdown",
   "metadata": {},
   "source": [
    "• x = L.car() **:** définis x comme l'entête d'une liste\n",
    "\n",
    "• L = cons(L.cdr().car(), L.cdr().cdr()) **:** retire l'entête d'une liste"
   ]
  },
  {
   "cell_type": "markdown",
   "metadata": {},
   "source": [
    "<h3 class='fa fa-cog' style=\"color: MediumSeaGreen\"> A faire vous même n°7 :</h3>\n",
    "\n",
    "Écrire une fonction `supprEnTete` qui prend en paramètre une liste et qui retourne son entête et la liste amputée de l’entête."
   ]
  },
  {
   "cell_type": "code",
   "execution_count": 48,
   "metadata": {},
   "outputs": [],
   "source": [
    "def supprEnTete(L):\n",
    "    return (L.car(), listeElements(L.cdr()))"
   ]
  },
  {
   "cell_type": "code",
   "execution_count": 49,
   "metadata": {},
   "outputs": [
    {
     "data": {
      "text/plain": [
       "(5, [4, 3, 2, 1, 0])"
      ]
     },
     "execution_count": 49,
     "metadata": {},
     "output_type": "execute_result"
    }
   ],
   "source": [
    "L = cons(5, cons(4, cons(3, cons(2, cons(1, cons(0,nil))))))\n",
    "supprEnTete(L)"
   ]
  },
  {
   "cell_type": "markdown",
   "metadata": {},
   "source": [
    "****\n",
    "## Références aux programmes :\n",
    "\n",
    "<style type=\"text/css\">\n",
    ".tg  {border-collapse:collapse;border-spacing:0;}\n",
    ".tg td{font-family:Arial, sans-serif;font-size:14px;padding:10px 5px;border-style:solid;border-width:1px;overflow:hidden;word-break:normal;border-color:black;}\n",
    ".tg th{font-family:Arial, sans-serif;font-size:14px;font-weight:normal;padding:10px 5px;border-style:solid;border-width:1px;overflow:hidden;word-break:normal;border-color:black;}\n",
    ".tg .tg-cv16{font-weight:bold;background-color:#dae8fc;border-color:inherit;text-align:center}\n",
    ".tg .tg-xldj{border-color:inherit;text-align:left}\n",
    "</style>\n",
    "<h3 >Structures de données</h3> \n",
    "<table class=\"tg\">\n",
    "  <tr>\n",
    "    <th class=\"tg-cv16\">Contenus</th>\n",
    "    <th class=\"tg-cv16\">Capacités attendues</th>\n",
    "    <th class=\"tg-cv16\">Commentaires</th>\n",
    "  </tr>\n",
    "  <tr>\n",
    "    <td class=\"tg-xldj\">Listes, piles, files :<br>structures linéaires.<br>Dictionnaires, index et clé.\n",
    "</td>\n",
    "    <td class=\"tg-xldj\">Distinguer des structures par le jeu des méthodes qui les caractérisent.<br>Choisir une structure de données adaptée à la situation à modéliser.<br>Distinguer la recherche d’une valeur dans une liste et dans un dictionnaire.</td>\n",
    "    <td class=\"tg-xldj\">On distingue les modes FIFO (first in first out) et LIFO (last in first out) des piles et des files.</td>\n",
    "  </tr>\n",
    "    \n",
    "</table>\n",
    "\n"
   ]
  },
  {
   "cell_type": "markdown",
   "metadata": {},
   "source": [
    "<a rel=\"license\" href=\"http://creativecommons.org/licenses/by-sa/4.0/\"><img alt=\"Licence Creative Commons\" style=\"border-width:0\" src=\"https://i.creativecommons.org/l/by-sa/4.0/88x31.png\" /></a><br />Ce document, basé sur le travail de Stephan VAN ZUIJLEN, est mis à disposition selon les termes de la <a rel=\"license\" href=\"http://creativecommons.org/licenses/by-sa/4.0/\">Licence Creative Commons Attribution -  Partage dans les Mêmes Conditions 4.0 International</a>.\n",
    "\n",
    "Pour toute question, suggestion ou commentaire : <a href=\"mailto:eric.madec@ecmorlaix.fr\">eric.madec@ecmorlaix.fr</a>"
   ]
  },
  {
   "cell_type": "code",
   "execution_count": null,
   "metadata": {},
   "outputs": [],
   "source": []
  }
 ],
 "metadata": {
  "kernelspec": {
   "display_name": "Python 3.8.13 64-bit ('shims')",
   "language": "python",
   "name": "python3"
  },
  "language_info": {
   "codemirror_mode": {
    "name": "ipython",
    "version": 3
   },
   "file_extension": ".py",
   "mimetype": "text/x-python",
   "name": "python",
   "nbconvert_exporter": "python",
   "pygments_lexer": "ipython3",
   "version": "3.8.13 (default, Oct  4 2022, 14:00:32) \n[GCC 9.4.0]"
  },
  "toc": {
   "base_numbering": 1,
   "nav_menu": {},
   "number_sections": true,
   "sideBar": true,
   "skip_h1_title": false,
   "title_cell": "Table of Contents",
   "title_sidebar": "Contents",
   "toc_cell": false,
   "toc_position": {},
   "toc_section_display": true,
   "toc_window_display": false
  },
  "varInspector": {
   "cols": {
    "lenName": 16,
    "lenType": 16,
    "lenVar": 40
   },
   "kernels_config": {
    "python": {
     "delete_cmd_postfix": "",
     "delete_cmd_prefix": "del ",
     "library": "var_list.py",
     "varRefreshCmd": "print(var_dic_list())"
    },
    "r": {
     "delete_cmd_postfix": ") ",
     "delete_cmd_prefix": "rm(",
     "library": "var_list.r",
     "varRefreshCmd": "cat(var_dic_list()) "
    }
   },
   "types_to_exclude": [
    "module",
    "function",
    "builtin_function_or_method",
    "instance",
    "_Feature"
   ],
   "window_display": false
  },
  "vscode": {
   "interpreter": {
    "hash": "9ac03a0a6051494cc606d484d27d20fce22fb7b4d169f583271e11d5ba46a56e"
   }
  }
 },
 "nbformat": 4,
 "nbformat_minor": 4
}
