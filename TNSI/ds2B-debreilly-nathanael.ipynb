{
 "cells": [
  {
   "cell_type": "markdown",
   "metadata": {},
   "source": [
    "# Devoir surveillé n°2 – Partie pratique B\n",
    "\n",
    "\n",
    "## Consignes\n",
    "\n",
    "Vous devez enregister ce fichier sous le nom `ds2B-nom-prenom.ipynb`\n",
    "\n",
    "De plus vous devez compléter votre fichier `ds2-nom-prenom.py` avec le code de toutes les fonctions définies ici y compris le code d'implémentation pour les piles que vous aurez utilisé afin de pouvoir l'importer pour la suite du développement de ce projet.\n",
    "\n",
    "À la fin de la séance, transmettez vos fichiers par mail à l'adresse `eric.madec@ecmorlaix.fr`\n",
    "\n",
    "Respectez bien le nom des fonctions pour faciliter la relecture du code.\n",
    "\n",
    "Vous pouvez rajouter des commentaires lorsque vous pensez que c’est nécessaire.\n",
    "\n",
    "De même, essayez de choisir des variables dont le nom est compréhensible, si c’est pertinent.\n",
    "\n",
    "\n",
    "# Les tours de Hanoï\n",
    "\n",
    "Les tours seront modélisées par une liste de 3 piles.\n",
    "\n",
    "Pour les piles, vous avez le choix entre deux implémentations données :\n",
    "- Dans la première, une pile est une liste Python.\n",
    "- Dans la deuxième, on définit une classe Pile qui utilise également une liste Python.\n",
    "\n",
    "Vous devez manipuler une pile uniquement avec les fonctions ou méthodes fournies.\n",
    "\n",
    "Pour pouvoir les utiliser dans ce notebook il vous faut les importer depuis votre module `ds2-nom-prenom.py` tout comme les fonctions que vous avez définies dans la partie A."
   ]
  },
  {
   "cell_type": "code",
   "execution_count": 1,
   "metadata": {},
   "outputs": [],
   "source": [
    "from ds2_debreilly_nathanael import *"
   ]
  },
  {
   "cell_type": "markdown",
   "metadata": {},
   "source": [
    "## Exercice 4 :\n",
    "\n",
    "Écrire une fonction `deplacer(tours, origine, cible)` qui déplace la valeur au sommet de la pile d’indice origine vers le sommet de la pile d’indice cible.\n",
    "\n",
    "Si le déplacement n’est pas possible, parce qu’il ne respecte pas les règles du jeu, les piles ne sont pas modifiées."
   ]
  },
  {
   "cell_type": "code",
   "execution_count": 65,
   "metadata": {},
   "outputs": [],
   "source": [
    "def deplacer(self, origine, cible):\n",
    "    '''\n",
    "    déplace la valeur au sommet de la pile d’indice origine vers le sommet de la pile d’indice cible.\n",
    "    Si le déplacement n’est pas possible, parce qu’il ne respecte pas les règles du jeu, les piles ne sont pas modifiées.\n",
    "    '''\n",
    "    if self[cible].est_vide() and not self[origine].est_vide():\n",
    "        self[cible].empiler(self[origine].depiler())\n",
    "    elif sommet(self[origine]) < sommet(self[cible]) and not self[origine].est_vide():\n",
    "        self[cible].empiler(self[origine].depiler())"
   ]
  },
  {
   "cell_type": "markdown",
   "metadata": {},
   "source": [
    "Tester votre fonction `deplacer(tours, origine, cible)` ci-dessous de sorte que :\n",
    "\n",
    "```python \n",
    ">>> tours = creation_tours(5)\n",
    ">>> deplacer(tours, 0, 1)\n",
    ">>> deplacer(tours, 0, 2)\n",
    ">>> print(tours)\n",
    "[[5, 4, 3], [1], [2]]\n",
    ">>> deplacer(tours, 0, 2) # mouvement impossible\n",
    ">>> print(tours)\n",
    "[[5, 4, 3], [1], [2]]\n",
    "```"
   ]
  },
  {
   "cell_type": "code",
   "execution_count": 66,
   "metadata": {},
   "outputs": [
    {
     "name": "stdout",
     "output_type": "stream",
     "text": [
      "[[5, 4, 3], [1], [2]]\n"
     ]
    }
   ],
   "source": [
    "tours = creation_tours(5)\n",
    "deplacer(tours, 0, 1)\n",
    "deplacer(tours, 0, 2)\n",
    "print(tours)"
   ]
  },
  {
   "cell_type": "code",
   "execution_count": 67,
   "metadata": {},
   "outputs": [
    {
     "name": "stdout",
     "output_type": "stream",
     "text": [
      "[[5, 4, 3], [1], [2]]\n"
     ]
    }
   ],
   "source": [
    "deplacer(tours,0, 2)\n",
    "print(tours)"
   ]
  },
  {
   "cell_type": "markdown",
   "metadata": {},
   "source": [
    "## Exercice 5 :\n",
    "\n",
    "Écrire une fonction récursive `resoudre(tours, n, origine, cible, interm)`qui permet de déplacer les n premiers disques au sommet de la pile d’indice origine vers la pile d’indice cible, en utilisant éventuellement la pile d’indice interm comme pile intermédiaire pour les déplacements.\n",
    "\n",
    "Pour résoudre le problème avec n disques, il faut donc faire `resoudre(tours, n, 0, 2, 1)`."
   ]
  },
  {
   "cell_type": "code",
   "execution_count": 68,
   "metadata": {},
   "outputs": [],
   "source": [
    "def resoudre(self, n, origine, cible, interm):\n",
    "    if n == 0:\n",
    "        return None\n",
    "    else:\n",
    "        resoudre(self, n-1, origine, interm, cible)\n",
    "        deplacer(self, origine, cible)\n",
    "        resoudre(self, n-1, interm, cible, origine)"
   ]
  },
  {
   "cell_type": "markdown",
   "metadata": {},
   "source": [
    "Tester votre fonction `resoudre(tours, n, origine, cible, interm)` ci-dessous de sorte que :\n",
    "\n",
    "```python \n",
    ">>> tours = creation_tours(5)\n",
    ">>> resoudre(tours, 5, 0, 2, 1)\n",
    ">>> print(tours)\n",
    "[[], [], [5, 4, 3, 2, 1]]\n",
    "```\n",
    "\n"
   ]
  },
  {
   "cell_type": "code",
   "execution_count": 69,
   "metadata": {},
   "outputs": [
    {
     "name": "stdout",
     "output_type": "stream",
     "text": [
      "[[], [], [5, 4, 3, 2, 1]]\n"
     ]
    }
   ],
   "source": [
    "tours = creation_tours(5)\n",
    "resoudre(tours, 5, 0, 2, 1)\n",
    "print(tours)"
   ]
  },
  {
   "cell_type": "markdown",
   "metadata": {},
   "source": [
    "## Exercice 6 : (bonus complémentaire)\n",
    "\n",
    "Écrire une fonction récursive `nb_etapes(n)` qui renvoie le nombre d’étapes nécessaires pour déplacer une pile de n disques, avec n > 1.\n",
    "\n",
    "Une étape correspond à un déplacement de disque.\n",
    "\n",
    "Il ne faut pas utiliser de piles pour cette fonction, mais juste faire le calcul."
   ]
  },
  {
   "cell_type": "code",
   "execution_count": 39,
   "metadata": {},
   "outputs": [],
   "source": [
    "def nb_etapes(n):\n",
    "    return 2**n - 1"
   ]
  },
  {
   "cell_type": "code",
   "execution_count": 49,
   "metadata": {},
   "outputs": [
    {
     "data": {
      "text/plain": [
       "1023"
      ]
     },
     "execution_count": 49,
     "metadata": {},
     "output_type": "execute_result"
    }
   ],
   "source": [
    "nb_etapes(10)"
   ]
  },
  {
   "cell_type": "markdown",
   "metadata": {},
   "source": [
    "## Consignes, rappels pour la suite :\n",
    "\n",
    "Vous devez enregister ce fichier sous le nom `ds2B-nom-prenom.ipynb`\n",
    "\n",
    "De plus vous devez compléter votre fichier `ds2-nom-prenom.py` avec le code de toutes les fonctions définies ici y compris le code d'implémentation pour les piles que vous avez utilisé afin de pouvoir l'importer pour la suite du développement de ce projet.\n",
    "\n",
    "À la fin de la séance, transmettez vos fichiers par mail à l'adresse `eric.madec@ecmorlaix.fr`\n",
    "\n",
    "Respectez bien le nom des fonctions pour faciliter la relecture du code.\n",
    "\n",
    "Vous pouvez rajouter des commentaires lorsque vous pensez que c’est nécessaire.\n",
    "\n",
    "De même, essayez de choisir des variables dont le nom est compréhensible, si c’est pertinent."
   ]
  }
 ],
 "metadata": {
  "kernelspec": {
   "display_name": "Python 3",
   "language": "python",
   "name": "python3"
  },
  "language_info": {
   "codemirror_mode": {
    "name": "ipython",
    "version": 3
   },
   "file_extension": ".py",
   "mimetype": "text/x-python",
   "name": "python",
   "nbconvert_exporter": "python",
   "pygments_lexer": "ipython3",
   "version": "3.8.13 (default, Oct  4 2022, 14:00:32) \n[GCC 9.4.0]"
  },
  "toc": {
   "base_numbering": 1,
   "nav_menu": {},
   "number_sections": true,
   "sideBar": true,
   "skip_h1_title": false,
   "title_cell": "Table of Contents",
   "title_sidebar": "Contents",
   "toc_cell": false,
   "toc_position": {},
   "toc_section_display": true,
   "toc_window_display": false
  },
  "varInspector": {
   "cols": {
    "lenName": 16,
    "lenType": 16,
    "lenVar": 40
   },
   "kernels_config": {
    "python": {
     "delete_cmd_postfix": "",
     "delete_cmd_prefix": "del ",
     "library": "var_list.py",
     "varRefreshCmd": "print(var_dic_list())"
    },
    "r": {
     "delete_cmd_postfix": ") ",
     "delete_cmd_prefix": "rm(",
     "library": "var_list.r",
     "varRefreshCmd": "cat(var_dic_list()) "
    }
   },
   "types_to_exclude": [
    "module",
    "function",
    "builtin_function_or_method",
    "instance",
    "_Feature"
   ],
   "window_display": false
  },
  "vscode": {
   "interpreter": {
    "hash": "9ac03a0a6051494cc606d484d27d20fce22fb7b4d169f583271e11d5ba46a56e"
   }
  }
 },
 "nbformat": 4,
 "nbformat_minor": 4
}
