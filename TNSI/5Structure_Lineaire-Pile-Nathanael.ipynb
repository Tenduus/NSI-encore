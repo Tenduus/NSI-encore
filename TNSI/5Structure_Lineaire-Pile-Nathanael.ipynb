{
 "cells": [
  {
   "cell_type": "markdown",
   "metadata": {},
   "source": [
    "# Structure linéaire de données : Pile\n",
    "\n",
    "En informatique on manipule essentiellement des données.\n",
    "\n",
    "Une structure de données est une organisation logique des données permettant de simplifier ou d'accélérer leur traitement.\n",
    "\n",
    "---\n",
    "\n",
    "Une pile (stack en anglais) est une structure de données fondée sur le principe du «dernier arrivé, premier sorti» (ou LIFO pour Last In, First Out), ce qui veut dire que les derniers éléments ajoutés à la pile seront les premiers à être récupérés.\n",
    "\n",
    "Le fonctionnement est donc celui d’une pile d’assiettes : on ajoute (push) des assiettes sur la pile, et on les récupère (pop) dans l’ordre inverse, en commençant par la dernière ajoutée.\n",
    "\n",
    "\n",
    "<img src=\"https://ericecmorlaix.github.io/img/SLD-Pile.png\" alt=\"SLD-Pile.png\" title=\"Pile\" width=50% >\n",
    "\n",
    "\n"
   ]
  },
  {
   "cell_type": "markdown",
   "metadata": {},
   "source": [
    "Voici quelques exemples d’usage courant d’une pile :\n",
    "\n",
    "- Dans un navigateur web, une pile sert à mémoriser les pages Web visitées. L’adresse de chaque nouvelle page visitée est empilée et l’utilisateur dépile l’adresse de la page précédente en cliquant le bouton «Afficher la page précédente».\n",
    "- La fonction «Annuler la frappe» (en anglais «Undo»)(touches **`CTRL+Z`**) d’un traitement de texte mémorise les modifications apportées au texte dans une pile.\n",
    "- L’évaluation des expressions mathématiques en [notation post-fixée (ou polonaise inverse)](https://fr.wikipedia.org/wiki/Notation_polonaise_inverse), qui a été implantée dans certaines calculatrices Hewlett-Packard, utilise une pile...\n",
    "\n",
    "\n",
    "# TAD d'une pile :\n",
    "\n",
    "On retrouve dans les piles une partie des propriétés vues sur les listes. Dans les piles, il est uniquement possible de manipuler le dernier élément introduit dans la pile.\n",
    "\n",
    "Pour définir une structure de pile, outre son initialisation, on a besoin d’un nombre réduit d’opérations de bases :\n",
    "- «empiler» : ajoute un élément sur la pile. En anglais : « push » ;\n",
    "- «dépiler» : enlève un élément de la pile et le renvoie. En anglais : « pop » ;\n",
    "- «vide» : renvoie vrai si la pile est vide, faux sinon ;\n",
    "- «remplissage» : renvoie le nombre d’éléments dans la pile.\n",
    "\n",
    "La structure de pile est un concept abstrait, pour la réaliser dans la pratique, plusieurs implémentations sont possibles...\n",
    "\n",
    "\n",
    "## Implémentation :\n",
    "\n",
    "### Version 1 :\n",
    "\n",
    "En utilisant une liste \"built in\" de Python pour représenter la pile.\n",
    "\n",
    "Il se trouve que les méthodes `append` et `pop` sur les listes jouent déjà le rôle de push et pop sur les piles.\n",
    "\n",
    "Voici les fonctions de base :"
   ]
  },
  {
   "cell_type": "code",
   "execution_count": 1,
   "metadata": {},
   "outputs": [],
   "source": [
    "def pile():\n",
    "    #retourne une liste vide\n",
    "    return []\n",
    "\n",
    "# vide\n",
    "def vide(p):\n",
    "    '''renvoie True si la pile est vide et False sinon'''\n",
    "    return p==[]\n",
    "\n",
    "# empiler\n",
    "def empiler(p,x):\n",
    "    '''Ajoute l’élément x à la pile p'''\n",
    "    p.append(x)\n",
    "\n",
    "# dépiler\n",
    "def depiler(p):\n",
    "    '''dépile et renvoie l’élément au sommet de la pile p'''\n",
    "    assert not vide(p), \"Pile vide\"\n",
    "    return p.pop()"
   ]
  },
  {
   "cell_type": "markdown",
   "metadata": {},
   "source": [
    "<h3 class='fa fa-cog' style=\"color: MediumSeaGreen\"> A faire vous même n°1 :</h3>\n",
    "\n",
    "Tester les instructions suivantes :\n",
    "\n",
    "```Python\n",
    "p = pile()\n",
    "for i in range(5):\n",
    "    empiler(p,2*i)\n",
    "a = depiler(p)\n",
    "print(a)\n",
    "print(vide(p))\n",
    "```"
   ]
  },
  {
   "cell_type": "code",
   "execution_count": 2,
   "metadata": {},
   "outputs": [
    {
     "name": "stdout",
     "output_type": "stream",
     "text": [
      "8\n",
      "False\n"
     ]
    }
   ],
   "source": [
    "p = pile()\n",
    "for i in range(5):\n",
    "    empiler(p,2*i)\n",
    "a = depiler(p)\n",
    "print(a)\n",
    "print(vide(p))"
   ]
  },
  {
   "cell_type": "markdown",
   "metadata": {},
   "source": [
    "<h3 class='fa fa-cog' style=\"color: MediumSeaGreen\"> A faire vous même n°2 :</h3>\n",
    "\n",
    "Réaliser les fonctions `taille(p)` et `sommet(p)` qui retournent respectivement la taille de la liste et le sommet de la liste (sans le supprimer)."
   ]
  },
  {
   "cell_type": "code",
   "execution_count": 3,
   "metadata": {},
   "outputs": [],
   "source": [
    "def taille(p):\n",
    "    return len(p)"
   ]
  },
  {
   "cell_type": "code",
   "execution_count": 4,
   "metadata": {},
   "outputs": [
    {
     "name": "stdout",
     "output_type": "stream",
     "text": [
      "[0, 2, 4, 6, 8]\n"
     ]
    },
    {
     "data": {
      "text/plain": [
       "5"
      ]
     },
     "execution_count": 4,
     "metadata": {},
     "output_type": "execute_result"
    }
   ],
   "source": [
    "p = pile()\n",
    "for i in range(5):\n",
    "    empiler(p,2*i)\n",
    "\n",
    "print(p)\n",
    "taille(p)"
   ]
  },
  {
   "cell_type": "code",
   "execution_count": 5,
   "metadata": {},
   "outputs": [],
   "source": [
    "def sommet(p) :\n",
    "    assert not vide(p), \"Pile vide\"\n",
    "    return p[-1]"
   ]
  },
  {
   "cell_type": "code",
   "execution_count": 6,
   "metadata": {},
   "outputs": [
    {
     "name": "stdout",
     "output_type": "stream",
     "text": [
      "[0, 2, 4, 6, 8]\n"
     ]
    },
    {
     "data": {
      "text/plain": [
       "8"
      ]
     },
     "execution_count": 6,
     "metadata": {},
     "output_type": "execute_result"
    }
   ],
   "source": [
    "p = pile()\n",
    "for i in range(5):\n",
    "    empiler(p,2*i)\n",
    "\n",
    "print(p)\n",
    "sommet(p)"
   ]
  },
  {
   "cell_type": "markdown",
   "metadata": {},
   "source": [
    "### Version 2 :\n",
    "\n",
    "En définissant une classe Pile pour implémenter cette structure :"
   ]
  },
  {
   "cell_type": "code",
   "execution_count": 78,
   "metadata": {},
   "outputs": [],
   "source": [
    "class Pile :\n",
    "    \n",
    "    '''classe Pile création d’une instance Pile avec une liste'''\n",
    "\n",
    "    def __init__(self):\n",
    "        '''Initialisation d’une pile vide'''\n",
    "        self.L=[]\n",
    "    \n",
    "    def vide(self):\n",
    "        '''teste si la pile est vide'''\n",
    "        return self.L==[]\n",
    "\n",
    "    def depiler(self):\n",
    "        '''dépile'''\n",
    "        assert not self.vide(),\"Pile vide\"\n",
    "        return self.L.pop()\n",
    "\n",
    "    def empiler(self,x):\n",
    "        '''empile'''\n",
    "        self.L.append(x)\n",
    "\n",
    "    def inverser(self):\n",
    "        copie = Pile()\n",
    "        for i in range(len(self.L)):\n",
    "            copie.empiler(self.L[i])\n",
    "        for i in range(len(copie.L)):\n",
    "            self.L[i] = copie.L[-i-1]\n",
    "        return self.L"
   ]
  },
  {
   "cell_type": "code",
   "execution_count": 79,
   "metadata": {},
   "outputs": [
    {
     "name": "stdout",
     "output_type": "stream",
     "text": [
      "[0, 2, 4, 6, 8]\n"
     ]
    },
    {
     "data": {
      "text/plain": [
       "[8, 6, 4, 2, 0]"
      ]
     },
     "execution_count": 79,
     "metadata": {},
     "output_type": "execute_result"
    }
   ],
   "source": [
    "p = Pile()\n",
    "for i in range(5) :\n",
    "    p.empiler(2*i)\n",
    "\n",
    "print(p.L)\n",
    "p.inverser()"
   ]
  },
  {
   "cell_type": "markdown",
   "metadata": {},
   "source": [
    "<h3 class='fa fa-cog' style=\"color: MediumSeaGreen\"> A faire vous même n°3 :</h3>\n",
    "\n",
    "Tester les instructions suivantes :\n",
    "\n",
    "```Python\n",
    "p = Pile()\n",
    "for i in range(5) :\n",
    "    p.empiler(2*i)\n",
    "print(p.L)\n",
    "a = p.depiler()\n",
    "print(a)\n",
    "print(p.L)\n",
    "print(p.vide())\n",
    "```"
   ]
  },
  {
   "cell_type": "code",
   "execution_count": 8,
   "metadata": {},
   "outputs": [],
   "source": [
    "p = Pile()\n",
    "for i in range(5) :\n",
    "    p.empiler(2*i)"
   ]
  },
  {
   "cell_type": "code",
   "execution_count": 9,
   "metadata": {},
   "outputs": [
    {
     "name": "stdout",
     "output_type": "stream",
     "text": [
      "[0, 2, 4, 6, 8]\n"
     ]
    }
   ],
   "source": [
    "print(p.L)"
   ]
  },
  {
   "cell_type": "code",
   "execution_count": 10,
   "metadata": {},
   "outputs": [
    {
     "name": "stdout",
     "output_type": "stream",
     "text": [
      "8\n"
     ]
    }
   ],
   "source": [
    "a = p.depiler()\n",
    "print(a)"
   ]
  },
  {
   "cell_type": "code",
   "execution_count": 11,
   "metadata": {},
   "outputs": [
    {
     "name": "stdout",
     "output_type": "stream",
     "text": [
      "[0, 2, 4, 6]\n"
     ]
    }
   ],
   "source": [
    "print(p.L)"
   ]
  },
  {
   "cell_type": "code",
   "execution_count": 12,
   "metadata": {},
   "outputs": [
    {
     "name": "stdout",
     "output_type": "stream",
     "text": [
      "False\n"
     ]
    }
   ],
   "source": [
    "print(p.vide())"
   ]
  },
  {
   "cell_type": "markdown",
   "metadata": {},
   "source": [
    "<h3 class='fa fa-cog' style=\"color: MediumSeaGreen\"> A faire vous même n°4 :</h3>\n",
    "\n",
    "Réaliser les méthodes `taille(self)` et `sommet(self)` qui retournent respectivement la taille de la liste et le sommet de la liste (sans le supprimer)."
   ]
  },
  {
   "cell_type": "code",
   "execution_count": 13,
   "metadata": {},
   "outputs": [],
   "source": [
    "def taille(self):\n",
    "    return len(self.L)"
   ]
  },
  {
   "cell_type": "code",
   "execution_count": 14,
   "metadata": {},
   "outputs": [
    {
     "data": {
      "text/plain": [
       "5"
      ]
     },
     "execution_count": 14,
     "metadata": {},
     "output_type": "execute_result"
    }
   ],
   "source": [
    "p = Pile()\n",
    "for i in range(5) :\n",
    "    p.empiler(2*i)\n",
    "\n",
    "taille(p)"
   ]
  },
  {
   "cell_type": "code",
   "execution_count": 15,
   "metadata": {},
   "outputs": [],
   "source": [
    "def sommet(self):\n",
    "    assert not self.vide(),\"Pile vide\"\n",
    "    return self.L[-1]"
   ]
  },
  {
   "cell_type": "code",
   "execution_count": 16,
   "metadata": {},
   "outputs": [
    {
     "data": {
      "text/plain": [
       "8"
      ]
     },
     "execution_count": 16,
     "metadata": {},
     "output_type": "execute_result"
    }
   ],
   "source": [
    "p = Pile()\n",
    "for i in range(5) :\n",
    "    p.empiler(2*i)\n",
    "\n",
    "sommet(p)"
   ]
  },
  {
   "cell_type": "markdown",
   "metadata": {},
   "source": [
    "<h2 class='fa fa-code' style=\"color: darkorange\"> Exercice d'application 1 : Contrôle du parenthésage d’une expression</h2>\n",
    "\n",
    "Il s’agit d’écrire une fonction qui contrôle si une expression mathématique, donnée sous forme d’une chaîne de caractères, est bien parenthésée, c’est- à-dire s’il y a autant de parenthèses ouvrantes que de fermantes, et qu’elles sont bien placées.\n",
    "\n",
    "Par exemple :\n",
    "- (..(..)..) est bien parenthésée\n",
    "- (...(..(..)...) ne l’est pas:\n",
    "\n",
    "#### L’algorithme :\n",
    "\n",
    "On crée une pile.\n",
    "\n",
    "On parcourt l’expression de gauche à droite.\n",
    "\n",
    "À chaque fois que l’on rencontre une parenthèse ouvrante \"( \" on l’empile.\n",
    "\n",
    "Si on rencontre une parenthèse fermante \" ) \" et que la pile n’est pas vide on dépile (sinon on retourne faux)\n",
    "\n",
    "À la fin la pile doit être vide...\n",
    "\n",
    "<h3 class='fa fa-cog' style=\"color: MediumSeaGreen\"> A faire vous même n°5 :</h3>\n",
    "\n",
    "Écrire en pseudo code l’algorithme\n",
    "\n",
    "definir verification(expression):\n",
    "\n",
    "    a = Pile()\n",
    "\n",
    "    pour i dans expression:\n",
    "\n",
    "        si i == \"(\":\n",
    "\n",
    "            a.empiler(i)\n",
    "\n",
    "        si i == \")\":\n",
    "\n",
    "            vérifier que a n'est pas vide, \"Faux\"\n",
    "\n",
    "            a.depiler()\n",
    "        \n",
    "    retourner a.vide()\n",
    "\n",
    "<h3 class='fa fa-cog' style=\"color: MediumSeaGreen\"> A faire vous même n°6 :</h3>\n",
    "\n",
    "En utilisant l’une des structures pile réalisées plus haut, écrire une fonction `verification(expr)` qui vérifie si une expression mathématique passée en paramètre est correctement parenthésée :"
   ]
  },
  {
   "cell_type": "code",
   "execution_count": 17,
   "metadata": {},
   "outputs": [],
   "source": [
    "def verification(expr):\n",
    "    a = Pile()\n",
    "    for i in expr:\n",
    "        if i == \"(\":\n",
    "            a.empiler(i)\n",
    "        if i == \")\":\n",
    "            assert not a.vide(), \"Faux\"\n",
    "            a.depiler()\n",
    "    return a.vide()"
   ]
  },
  {
   "cell_type": "code",
   "execution_count": 18,
   "metadata": {},
   "outputs": [
    {
     "data": {
      "text/plain": [
       "False"
      ]
     },
     "execution_count": 18,
     "metadata": {},
     "output_type": "execute_result"
    }
   ],
   "source": [
    "verification(\"(7*4)+(6*5(\")"
   ]
  },
  {
   "cell_type": "markdown",
   "metadata": {},
   "source": [
    "<h3 class='fa fa-cog' style=\"color: MediumSeaGreen\"> A faire vous même n°7 :</h3>\n",
    "\n",
    "Faire en sorte que le programme tienne compte également des `[`..."
   ]
  },
  {
   "cell_type": "code",
   "execution_count": 19,
   "metadata": {},
   "outputs": [],
   "source": [
    "def verification(expr):\n",
    "    a = Pile()\n",
    "    b = Pile()\n",
    "    for i in expr:\n",
    "        if i == \"(\":\n",
    "            a.empiler(i)\n",
    "        if i == \")\":\n",
    "            assert not a.vide(), \"Faux\"\n",
    "            a.depiler()\n",
    "        if i == \"[\":\n",
    "            b.empiler(i)\n",
    "        if i == \"]\":\n",
    "            assert not b.vide(), \"Faux\"\n",
    "            b.depiler()\n",
    "    return a.vide() and b.vide()"
   ]
  },
  {
   "cell_type": "code",
   "execution_count": 22,
   "metadata": {},
   "outputs": [
    {
     "data": {
      "text/plain": [
       "False"
      ]
     },
     "execution_count": 22,
     "metadata": {},
     "output_type": "execute_result"
    }
   ],
   "source": [
    "verification(\"(7*4)+[6*5[\")"
   ]
  },
  {
   "cell_type": "markdown",
   "metadata": {},
   "source": [
    "<h2 class='fa fa-code' style=\"color: darkorange\"> Exercice d'application 2 : Convertisseur décimal => binaire</h2>\n",
    "\n",
    "\n",
    "> ### Petit rappel :\n",
    ">\n",
    ">Une méthode de conversion consiste à diviser le nombre décimal à convertir par la base b et conserver le reste de la division. Le quotient obtenu est divisé par b et conserver le reste. Il faut répéter l’opération sur chaque quotient obtenu.\n",
    ">\n",
    "> Par exemple, pour la conversion : $91$ = $01011011_2$\n",
    ">\n",
    "><img src=\"https://ericecmorlaix.github.io/img/Stepper-ConversionBinaire2.svg\" alt=\"ConversionBinaire2\">\n",
    ">\n",
    ">Les restes successifs sont écrits, en commençant par le dernier, de la gauche vers la droite. Cette méthode est dite « Méthode des divisions successives ».\n",
    "\n",
    "<h3 class='fa fa-cog' style=\"color: MediumSeaGreen\"> A faire vous même n°7 :</h3>\n",
    "\n",
    "Écrire une fonction `decToBin(n)` qui prend en paramètre un entier n et qui renvoie l’écriture binaire de cet entier en utilisant une pile pour stocker les restes des divisions successives."
   ]
  },
  {
   "cell_type": "code",
   "execution_count": 80,
   "metadata": {},
   "outputs": [],
   "source": [
    "def decToBin(n):\n",
    "    binaire = Pile()\n",
    "    while n//2 != 0:\n",
    "        binaire.empiler(n%2)\n",
    "        n = n//2\n",
    "    binaire.empiler(n%2)\n",
    "    return binaire.inverser()"
   ]
  },
  {
   "cell_type": "code",
   "execution_count": 81,
   "metadata": {},
   "outputs": [
    {
     "data": {
      "text/plain": [
       "[1, 0, 1, 1, 0, 1, 1]"
      ]
     },
     "execution_count": 81,
     "metadata": {},
     "output_type": "execute_result"
    }
   ],
   "source": [
    "decToBin(91)"
   ]
  },
  {
   "cell_type": "markdown",
   "metadata": {},
   "source": [
    "<h3 class='fa fa-cog' style=\"color: MediumSeaGreen\"> A faire vous même n°8 :</h3>\n",
    "\n",
    "Écrire une fonction `baseConverter(n,b)` qui prend en paramètres 2 entiers (avec 2 ≤ b ≤ 16) et qui renvoie l’écriture en base b de cet entier en utilisant une pile pour stocker les restes des divisions successives."
   ]
  },
  {
   "cell_type": "code",
   "execution_count": 90,
   "metadata": {},
   "outputs": [],
   "source": [
    "def baseConverter(n, b):\n",
    "    basepile = Pile()\n",
    "    while n//b != 0:\n",
    "        basepile.empiler(n%b)\n",
    "        n = n//b\n",
    "    basepile.empiler(n%b)\n",
    "    return basepile.inverser()"
   ]
  },
  {
   "cell_type": "code",
   "execution_count": 94,
   "metadata": {},
   "outputs": [
    {
     "data": {
      "text/plain": [
       "[11, 11, 2, 7, 8]"
      ]
     },
     "execution_count": 94,
     "metadata": {},
     "output_type": "execute_result"
    }
   ],
   "source": [
    "baseConverter(766584, 16)"
   ]
  },
  {
   "cell_type": "markdown",
   "metadata": {},
   "source": [
    "****\n",
    "## Références aux programmes :\n",
    "\n",
    "<style type=\"text/css\">\n",
    ".tg  {border-collapse:collapse;border-spacing:0;}\n",
    ".tg td{font-family:Arial, sans-serif;font-size:14px;padding:10px 5px;border-style:solid;border-width:1px;overflow:hidden;word-break:normal;border-color:black;}\n",
    ".tg th{font-family:Arial, sans-serif;font-size:14px;font-weight:normal;padding:10px 5px;border-style:solid;border-width:1px;overflow:hidden;word-break:normal;border-color:black;}\n",
    ".tg .tg-cv16{font-weight:bold;background-color:#dae8fc;border-color:inherit;text-align:center}\n",
    ".tg .tg-xldj{border-color:inherit;text-align:left}\n",
    "</style>\n",
    "<h3 >Structures de données</h3> \n",
    "<table class=\"tg\">\n",
    "  <tr>\n",
    "    <th class=\"tg-cv16\">Contenus</th>\n",
    "    <th class=\"tg-cv16\">Capacités attendues</th>\n",
    "    <th class=\"tg-cv16\">Commentaires</th>\n",
    "  </tr>\n",
    "  <tr>\n",
    "    <td class=\"tg-xldj\">Listes, piles, files :<br>structures linéaires.<br>Dictionnaires, index et clé.\n",
    "</td>\n",
    "    <td class=\"tg-xldj\">Distinguer des structures par le jeu des méthodes qui les caractérisent.<br>Choisir une structure de données adaptée à la situation à modéliser.<br>Distinguer la recherche d’une valeur dans une liste et dans un dictionnaire.</td>\n",
    "    <td class=\"tg-xldj\">On distingue les modes FIFO (first in first out) et LIFO (last in first out) des piles et des files.</td>\n",
    "  </tr>\n",
    "    \n",
    "</table>\n",
    "\n"
   ]
  },
  {
   "cell_type": "markdown",
   "metadata": {},
   "source": [
    "<a rel=\"license\" href=\"http://creativecommons.org/licenses/by-sa/4.0/\"><img alt=\"Licence Creative Commons\" style=\"border-width:0\" src=\"https://i.creativecommons.org/l/by-sa/4.0/88x31.png\" /></a><br />Ce document, basé sur le travail de Stephan VAN ZUIJLEN, est mis à disposition selon les termes de la <a rel=\"license\" href=\"http://creativecommons.org/licenses/by-sa/4.0/\">Licence Creative Commons Attribution -  Partage dans les Mêmes Conditions 4.0 International</a>.\n",
    "\n",
    "Pour toute question, suggestion ou commentaire : <a href=\"mailto:eric.madec@ecmorlaix.fr\">eric.madec@ecmorlaix.fr</a>"
   ]
  },
  {
   "cell_type": "code",
   "execution_count": null,
   "metadata": {},
   "outputs": [],
   "source": []
  }
 ],
 "metadata": {
  "kernelspec": {
   "display_name": "Python 3",
   "language": "python",
   "name": "python3"
  },
  "language_info": {
   "codemirror_mode": {
    "name": "ipython",
    "version": 3
   },
   "file_extension": ".py",
   "mimetype": "text/x-python",
   "name": "python",
   "nbconvert_exporter": "python",
   "pygments_lexer": "ipython3",
   "version": "3.8.13 (default, Oct  4 2022, 14:00:32) \n[GCC 9.4.0]"
  },
  "toc": {
   "base_numbering": 1,
   "nav_menu": {},
   "number_sections": true,
   "sideBar": true,
   "skip_h1_title": false,
   "title_cell": "Table of Contents",
   "title_sidebar": "Contents",
   "toc_cell": false,
   "toc_position": {},
   "toc_section_display": true,
   "toc_window_display": false
  },
  "varInspector": {
   "cols": {
    "lenName": 16,
    "lenType": 16,
    "lenVar": 40
   },
   "kernels_config": {
    "python": {
     "delete_cmd_postfix": "",
     "delete_cmd_prefix": "del ",
     "library": "var_list.py",
     "varRefreshCmd": "print(var_dic_list())"
    },
    "r": {
     "delete_cmd_postfix": ") ",
     "delete_cmd_prefix": "rm(",
     "library": "var_list.r",
     "varRefreshCmd": "cat(var_dic_list()) "
    }
   },
   "types_to_exclude": [
    "module",
    "function",
    "builtin_function_or_method",
    "instance",
    "_Feature"
   ],
   "window_display": false
  },
  "vscode": {
   "interpreter": {
    "hash": "9ac03a0a6051494cc606d484d27d20fce22fb7b4d169f583271e11d5ba46a56e"
   }
  }
 },
 "nbformat": 4,
 "nbformat_minor": 4
}
