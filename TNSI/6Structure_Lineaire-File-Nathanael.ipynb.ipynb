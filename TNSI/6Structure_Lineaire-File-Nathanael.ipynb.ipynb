{
 "cells": [
  {
   "cell_type": "markdown",
   "metadata": {},
   "source": [
    "# Structure linéaire de données : File\n",
    "\n",
    "En informatique on manipule essentiellement des données.\n",
    "\n",
    "Une structure de données est une organisation logique des données permettant de simplifier ou d'accélérer leur traitement.\n",
    "\n",
    "---\n",
    "\n",
    "Une file (queue en anglais ) est une structure de données basée sur le principe «Premier entré,premier sorti» (ou FIFO pour First In, First Out), ce qui veut dire que les premiers éléments ajoutés à la file seront les premiers à être récupérés.\n",
    "\n",
    "Le fonctionnement ressemble à une file d’attente : les premières personnes à arriver sont les premières personnes à sortir de la file.\n",
    "\n",
    "\n",
    "\n",
    "\n",
    "<img src=\"https://ericecmorlaix.github.io/img/SLD-File.png\" alt=\"SLD-File.png\" title=\"File\" width=50% >\n",
    "\n",
    "\n"
   ]
  },
  {
   "cell_type": "markdown",
   "metadata": {},
   "source": [
    "Voici quelques exemples d’usage courant d’une file:\n",
    "\n",
    "- En général, on utilise des files pour mémoriser temporairement des transactions qui doivent attendre pour être traitées ;\n",
    "- Les serveurs d’impression, qui doivent traiter les requêtes dans l’ordre dans lequel elles arrivent, et les insèrent dans une file d’attente (ou une queue).\n",
    "- Certains moteurs multitâches, dans un système d’exploitation, qui doivent accorder du temps-machine à chaque tâche, sans en privilégier aucune.\n",
    "\n",
    "<h3 class='fa fa-cog' style=\"color: MediumSeaGreen\"> A faire vous même n°0 :</h3>\n",
    "\n",
    "Essayer de résoudre le tri à la page suivante : https://alainbusser.frama.io/NSI-IREMI-974/queuesortable.html\n",
    "\n",
    "Réussi\n",
    "\n",
    "# TAD d'une file :\n",
    "\n",
    "Pour définir une structure de file, outre son initialisation, on a besoin d’un nombre réduit d’opérations de bases :\n",
    "- «enfiler» : ajoute un élément dans la file. En anglais : « enqueue » ;\n",
    "- «défiler» : renvoie le prochain élément de la file, et le retire de la file. En anglais : « dequeue » ;\n",
    "- «vide» : renvoie vrai si la file est vide, faux sinon ;\n",
    "- «remplissage» : renvoie le nombre d’éléments dans la file.\n",
    "\n",
    "La structure de file est un concept abstrait, pour la réaliser dans la pratique, plusieurs implémentations sont possibles...\n",
    "\n",
    "\n",
    "## Implémentation :\n",
    "\n",
    "### Version 1 :\n",
    "\n",
    "En utilisant une liste \"built in\" de Python pour représenter la file.\n",
    "\n",
    "Avec les méthodes `append` et `pop` serviront pour «enfiler» et «défiler».\n",
    "\n",
    "Voici les fonctions de base :"
   ]
  },
  {
   "cell_type": "code",
   "execution_count": 1,
   "metadata": {},
   "outputs": [],
   "source": [
    "def file():\n",
    "    # retourne une file vide\n",
    "    return []\n",
    "\n",
    "def vide(f):\n",
    "    # renvoie True si la file est vide False sinon\n",
    "    return f==[]\n",
    "\n",
    "def enfiler(f,x):\n",
    "    # ajoute x à la file f\n",
    "    return f.append(x)\n",
    "\n",
    "def defiler(f):\n",
    "    # enlève et renvoie le premier élément de la file\n",
    "    assert not vide(f), \"file vide\"\n",
    "    return f.pop(0)\n"
   ]
  },
  {
   "cell_type": "markdown",
   "metadata": {},
   "source": [
    "<h3 class='fa fa-cog' style=\"color: MediumSeaGreen\"> A faire vous même n°1 :</h3>\n",
    "\n",
    "Tester les instructions suivantes :\n",
    "\n",
    "```Python\n",
    "f=file()\n",
    "for i in range(5):\n",
    "    enfiler(f,2*i)\n",
    "print(f)\n",
    "a=defiler(f)\n",
    "print(a)\n",
    "print(f)\n",
    "print(vide(f))\n",
    "```"
   ]
  },
  {
   "cell_type": "code",
   "execution_count": 2,
   "metadata": {},
   "outputs": [
    {
     "name": "stdout",
     "output_type": "stream",
     "text": [
      "[0, 2, 4, 6, 8]\n"
     ]
    }
   ],
   "source": [
    "f=file()\n",
    "for i in range(5):\n",
    "    enfiler(f,2*i)\n",
    "print(f)"
   ]
  },
  {
   "cell_type": "code",
   "execution_count": 3,
   "metadata": {},
   "outputs": [
    {
     "name": "stdout",
     "output_type": "stream",
     "text": [
      "0\n"
     ]
    }
   ],
   "source": [
    "a=defiler(f)\n",
    "print(a)"
   ]
  },
  {
   "cell_type": "code",
   "execution_count": 4,
   "metadata": {},
   "outputs": [
    {
     "name": "stdout",
     "output_type": "stream",
     "text": [
      "[2, 4, 6, 8]\n"
     ]
    }
   ],
   "source": [
    "print(f)"
   ]
  },
  {
   "cell_type": "code",
   "execution_count": 5,
   "metadata": {},
   "outputs": [
    {
     "name": "stdout",
     "output_type": "stream",
     "text": [
      "False\n"
     ]
    }
   ],
   "source": [
    "print(vide(f))"
   ]
  },
  {
   "cell_type": "markdown",
   "metadata": {},
   "source": [
    "<h3 class='fa fa-code' style=\"color: MediumSeaGreen\"> A faire vous même n°2 :</h3>\n",
    "\n",
    "Réaliser les fonctions `taille(f)` et `sommet(f)` qui retournent respectivement la taille de la file et le sommet de la file (le premier à sortir) sans le supprimer."
   ]
  },
  {
   "cell_type": "code",
   "execution_count": 6,
   "metadata": {},
   "outputs": [],
   "source": [
    "def taille(f) :\n",
    "    return len(f)"
   ]
  },
  {
   "cell_type": "code",
   "execution_count": 7,
   "metadata": {},
   "outputs": [
    {
     "name": "stdout",
     "output_type": "stream",
     "text": [
      "[0, 2, 4, 6, 8]\n"
     ]
    },
    {
     "data": {
      "text/plain": [
       "5"
      ]
     },
     "execution_count": 7,
     "metadata": {},
     "output_type": "execute_result"
    }
   ],
   "source": [
    "f=file()\n",
    "for i in range(5):\n",
    "    enfiler(f,2*i)\n",
    "print(f)\n",
    "taille(f)"
   ]
  },
  {
   "cell_type": "code",
   "execution_count": 8,
   "metadata": {},
   "outputs": [],
   "source": [
    "def sommet(f) :\n",
    "    assert not vide(f), \"La file est vide\"\n",
    "    return (f[0])"
   ]
  },
  {
   "cell_type": "code",
   "execution_count": 9,
   "metadata": {},
   "outputs": [
    {
     "name": "stdout",
     "output_type": "stream",
     "text": [
      "[0, 2, 4, 6, 8]\n"
     ]
    },
    {
     "data": {
      "text/plain": [
       "0"
      ]
     },
     "execution_count": 9,
     "metadata": {},
     "output_type": "execute_result"
    }
   ],
   "source": [
    "f=file()\n",
    "for i in range(5):\n",
    "    enfiler(f,2*i)\n",
    "print(f)\n",
    "sommet(f)"
   ]
  },
  {
   "cell_type": "markdown",
   "metadata": {},
   "source": [
    "### Version 2 :\n",
    "\n",
    "En définissant une classe File pour implémenter cette structure :\n",
    "\n",
    "<h3 class='fa fa-code' style=\"color: MediumSeaGreen\"> A faire vous même n°3 :</h3>\n",
    "\n",
    "En vous inspirant de ce que l’on a vu pour la classe Pile(), réaliser cette implémentation"
   ]
  },
  {
   "cell_type": "code",
   "execution_count": 1,
   "metadata": {},
   "outputs": [],
   "source": [
    "class File :\n",
    "\n",
    "    '''classe File création d’une instance File avec une liste'''\n",
    "\n",
    "    def __init__(self):\n",
    "        '''Initialisation d’une file vide'''\n",
    "        self.F = []\n",
    "        \n",
    "    def vide(self):\n",
    "        '''teste si la file est vide'''\n",
    "        return self.F == []\n",
    "\n",
    "    def defiler(self):\n",
    "        '''défile'''\n",
    "        assert not self.vide(), \"File vide\"\n",
    "        return self.F.pop(0)\n",
    "\n",
    "    def enfiler(self,x):\n",
    "        '''enfile'''\n",
    "        self.F.append(x)"
   ]
  },
  {
   "cell_type": "markdown",
   "metadata": {},
   "source": [
    "<h3 class='fa fa-cog' style=\"color: MediumSeaGreen\"> A faire vous même n°4 :</h3>\n",
    "\n",
    "Écrire les instructions permettant de :\n",
    "- créer une file\n",
    "- la remplir avec les entiers 0,2,4,6,8\n",
    "- la faire afficher\n",
    "- \"défiler\" la file en faisant afficher l’élément récupéré"
   ]
  },
  {
   "cell_type": "code",
   "execution_count": 11,
   "metadata": {},
   "outputs": [
    {
     "name": "stdout",
     "output_type": "stream",
     "text": [
      "[0, 2, 4, 6, 8]\n"
     ]
    }
   ],
   "source": [
    "f = File()\n",
    "for i in range(5) :\n",
    "    f.enfiler(2*i)\n",
    "print(f.F)"
   ]
  },
  {
   "cell_type": "code",
   "execution_count": 12,
   "metadata": {},
   "outputs": [
    {
     "name": "stdout",
     "output_type": "stream",
     "text": [
      "0\n"
     ]
    }
   ],
   "source": [
    "a = f.defiler()\n",
    "print(a)"
   ]
  },
  {
   "cell_type": "code",
   "execution_count": 13,
   "metadata": {},
   "outputs": [
    {
     "name": "stdout",
     "output_type": "stream",
     "text": [
      "[2, 4, 6, 8]\n"
     ]
    }
   ],
   "source": [
    "print(f.F)"
   ]
  },
  {
   "cell_type": "code",
   "execution_count": 14,
   "metadata": {},
   "outputs": [
    {
     "name": "stdout",
     "output_type": "stream",
     "text": [
      "False\n"
     ]
    }
   ],
   "source": [
    "print(f.vide())"
   ]
  },
  {
   "cell_type": "markdown",
   "metadata": {},
   "source": [
    "<h3 class='fa fa-cog' style=\"color: MediumSeaGreen\"> A faire vous même n°5 :</h3>\n",
    "\n",
    "Réaliser les méthodes `taille(self)` et `sommet(self)` qui retournent respectivement la taille de la file et le sommet (le premier à sortir) sans le supprimer."
   ]
  },
  {
   "cell_type": "code",
   "execution_count": 2,
   "metadata": {},
   "outputs": [],
   "source": [
    "def taille(self):\n",
    "    return len(self.F)"
   ]
  },
  {
   "cell_type": "code",
   "execution_count": 16,
   "metadata": {},
   "outputs": [
    {
     "name": "stdout",
     "output_type": "stream",
     "text": [
      "[0, 2, 4, 6, 8]\n"
     ]
    },
    {
     "data": {
      "text/plain": [
       "5"
      ]
     },
     "execution_count": 16,
     "metadata": {},
     "output_type": "execute_result"
    }
   ],
   "source": [
    "f = File()\n",
    "for i in range(5) :\n",
    "    f.enfiler(2*i)\n",
    "print(f.F)\n",
    "taille(f)"
   ]
  },
  {
   "cell_type": "code",
   "execution_count": 3,
   "metadata": {},
   "outputs": [],
   "source": [
    "def sommet(self):\n",
    "    assert not self.vide(), \"File vide\"\n",
    "    return self.F[0]"
   ]
  },
  {
   "cell_type": "code",
   "execution_count": 18,
   "metadata": {},
   "outputs": [
    {
     "name": "stdout",
     "output_type": "stream",
     "text": [
      "[0, 2, 4, 6, 8]\n"
     ]
    },
    {
     "data": {
      "text/plain": [
       "0"
      ]
     },
     "execution_count": 18,
     "metadata": {},
     "output_type": "execute_result"
    }
   ],
   "source": [
    "f = File()\n",
    "for i in range(5) :\n",
    "    f.enfiler(2*i)\n",
    "print(f.F)\n",
    "sommet(f)"
   ]
  },
  {
   "cell_type": "markdown",
   "metadata": {},
   "source": [
    "<h2 class='fa fa-code' style=\"color: darkorange\"> Exercice d'application 1 : Croisement routier</h2>\n",
    "\n",
    "Pour simuler un croisement routier, à sens unique, on utilise 3 files f1, f2 et f3 représentant respectivement les voitures arrivant sur des routes R1 et R2, et les voitures partant sur la route R3.\n",
    "\n",
    "La route R2 a un STOP. Les voitures de la file f2 ne peuvent avancer que s’il n’y a aucune voiture sur la route R1, donc dans la file f1.\n",
    "\n",
    "<img src=\"https://ericecmorlaix.github.io/img/SLD-FileVoiture.png\" alt=\"SLD-FileVoiture.png\" title=\"File Voiture\" width=50% >\n",
    "\n",
    "On souhaite écrire un algorithme qui simule le départ des voitures sur la route R3, modélisée par la file f3.\n",
    "\n",
    "- Dans la file f1 on représentera la présence d’une voiture par le nombre 1 et l’absence de voiture par 0 ;\n",
    "- Dans la file f2 on représentera la présence d’une voiture par le nombre 2 et l’absence de voiture par 0 ;\n",
    "- On n’utilisera que les méthodes enfiler, defiler, sommet et vide ;\n",
    "- On testera l’algorithme sur f1 : tête <–[0, 1, 1, 0, 1]<– queue ;\n",
    "- On testera l’algorithme sur f2 : tête <–[0, 2, 2, 2, 0, 2, 0]<– queue ;\n",
    "- Le résultat attendu est alors : f3 tête <–[0, 1, 1, 2, 1, 2, 2, 0, 2, 0]<– queue."
   ]
  },
  {
   "cell_type": "markdown",
   "metadata": {},
   "source": [
    "<h3 class='fa fa-cog' style=\"color: MediumSeaGreen\"> A faire vous même n°6 :</h3>\n",
    "\n",
    "- Q1) Que doit faire l’algorithme si les deux sommets des files sont à 0 ?\n",
    "\n",
    "Defiler les deux sommets\n",
    "\n",
    "- Q2) Que doit faire l’algorithme si le sommet de f1 est à 1 et celui de f2 à 2 ?\n",
    "\n",
    "Defiler le sommet de la file f1\n",
    "\n",
    "- Q3) Que doit faire l’algorithme si le sommet de f1 est à 1 et celui de f2 à 0 ?\n",
    "\n",
    "Defiler le sommet de la file f1\n",
    "\n",
    "- Q4) Que doit faire l’algorithme si le sommet de f1 est à 0 et celui de f2 à 2 ?\n",
    "\n",
    "Defiler les deux sommets\n",
    "\n",
    "- Q5) Que doit faire l’algorithme si l’une des deux files est vide ?\n",
    "\n",
    "Terminer de Defiler celle qui ne l'est pas\n",
    "\n",
    "- Q6) Écrire un algorithme qui modélise ce carrefour, on utilisera une fonction croisement(f1,f2) qui prend en paramètres deux files f1 et f2 et qui retourne une file f3 contenant la file f3 des voitures sur la route R3"
   ]
  },
  {
   "cell_type": "markdown",
   "metadata": {},
   "source": [
    "<h3 class='fa fa-code' style=\"color: MediumSeaGreen\"> A faire vous même n°7 :</h3>\n",
    "\n",
    "Réaliser le programme et tester le dans différents scénario..."
   ]
  },
  {
   "cell_type": "code",
   "execution_count": 4,
   "metadata": {},
   "outputs": [],
   "source": [
    "f1 = File()\n",
    "f2 = File()\n",
    "f3 = File()\n",
    "a = [0,1,1,0,1]\n",
    "b = [0,2,2,2,0,2,0]\n",
    "for i in a:\n",
    "    f1.enfiler(i)\n",
    "for i in b:\n",
    "    f2.enfiler(i)"
   ]
  },
  {
   "cell_type": "code",
   "execution_count": 6,
   "metadata": {},
   "outputs": [
    {
     "name": "stdout",
     "output_type": "stream",
     "text": [
      "[0, 1, 1, 2, 1, 2, 2, 0, 2, 0]\n"
     ]
    }
   ],
   "source": [
    "for i in range(taille(f1)):\n",
    "    if sommet(f1) == 1:\n",
    "        f3.enfiler(f1.defiler())\n",
    "    elif sommet(f1) == 0:\n",
    "        f3.enfiler(f2.defiler())\n",
    "        f1.defiler()\n",
    "if not f2.vide():\n",
    "    for i in range(taille(f2)):\n",
    "        f3.enfiler(f2.defiler())\n",
    "\n",
    "print(f3.F)"
   ]
  },
  {
   "cell_type": "markdown",
   "metadata": {},
   "source": [
    "<h2 class='fa fa-code' style=\"color: darkorange\"> Exercice d'application 2 : File et Pile</h2>\n",
    "\n",
    "On dispose d’une file, écrire une fonction qui renvoie la file inversée (l’élément de la tête sera situé à la queue et ainsi de suite) ;\n",
    "On utilisera une pile et seulement les méthodes associées aux piles et aux files."
   ]
  },
  {
   "cell_type": "code",
   "execution_count": 7,
   "metadata": {},
   "outputs": [],
   "source": [
    "f = File()\n",
    "for i in range(5) :\n",
    "    f.enfiler(2*i)"
   ]
  },
  {
   "cell_type": "code",
   "execution_count": 10,
   "metadata": {},
   "outputs": [
    {
     "name": "stdout",
     "output_type": "stream",
     "text": [
      "[0, 2, 4, 6, 8]\n"
     ]
    },
    {
     "data": {
      "text/plain": [
       "[8, 6, 4, 2, 0]"
      ]
     },
     "execution_count": 10,
     "metadata": {},
     "output_type": "execute_result"
    }
   ],
   "source": [
    "def inverse(f):\n",
    "    nouvelle_file = File()\n",
    "    for i in range(taille(f)):\n",
    "        nouvelle_file.enfiler(f.F[-i-1])\n",
    "    return nouvelle_file.F\n",
    "\n",
    "print(f.F)\n",
    "inverse(f)"
   ]
  },
  {
   "cell_type": "markdown",
   "metadata": {},
   "source": [
    "****\n",
    "## Références aux programmes :\n",
    "\n",
    "<style type=\"text/css\">\n",
    ".tg  {border-collapse:collapse;border-spacing:0;}\n",
    ".tg td{font-family:Arial, sans-serif;font-size:14px;padding:10px 5px;border-style:solid;border-width:1px;overflow:hidden;word-break:normal;border-color:black;}\n",
    ".tg th{font-family:Arial, sans-serif;font-size:14px;font-weight:normal;padding:10px 5px;border-style:solid;border-width:1px;overflow:hidden;word-break:normal;border-color:black;}\n",
    ".tg .tg-cv16{font-weight:bold;background-color:#dae8fc;border-color:inherit;text-align:center}\n",
    ".tg .tg-xldj{border-color:inherit;text-align:left}\n",
    "</style>\n",
    "<h3 >Structures de données</h3> \n",
    "<table class=\"tg\">\n",
    "  <tr>\n",
    "    <th class=\"tg-cv16\">Contenus</th>\n",
    "    <th class=\"tg-cv16\">Capacités attendues</th>\n",
    "    <th class=\"tg-cv16\">Commentaires</th>\n",
    "  </tr>\n",
    "  <tr>\n",
    "    <td class=\"tg-xldj\">Listes, piles, files :<br>structures linéaires.<br>Dictionnaires, index et clé.\n",
    "</td>\n",
    "    <td class=\"tg-xldj\">Distinguer des structures par le jeu des méthodes qui les caractérisent.<br>Choisir une structure de données adaptée à la situation à modéliser.<br>Distinguer la recherche d’une valeur dans une liste et dans un dictionnaire.</td>\n",
    "    <td class=\"tg-xldj\">On distingue les modes FIFO (first in first out) et LIFO (last in first out) des piles et des files.</td>\n",
    "  </tr>\n",
    "    \n",
    "</table>\n",
    "\n"
   ]
  },
  {
   "cell_type": "markdown",
   "metadata": {},
   "source": [
    "<a rel=\"license\" href=\"http://creativecommons.org/licenses/by-sa/4.0/\"><img alt=\"Licence Creative Commons\" style=\"border-width:0\" src=\"https://i.creativecommons.org/l/by-sa/4.0/88x31.png\" /></a><br />Ce document, basé sur le travail de Stephan VAN ZUIJLEN, est mis à disposition selon les termes de la <a rel=\"license\" href=\"http://creativecommons.org/licenses/by-sa/4.0/\">Licence Creative Commons Attribution -  Partage dans les Mêmes Conditions 4.0 International</a>.\n",
    "\n",
    "Pour toute question, suggestion ou commentaire : <a href=\"mailto:eric.madec@ecmorlaix.fr\">eric.madec@ecmorlaix.fr</a>"
   ]
  },
  {
   "cell_type": "code",
   "execution_count": null,
   "metadata": {},
   "outputs": [],
   "source": []
  }
 ],
 "metadata": {
  "kernelspec": {
   "display_name": "Python 3",
   "language": "python",
   "name": "python3"
  },
  "language_info": {
   "codemirror_mode": {
    "name": "ipython",
    "version": 3
   },
   "file_extension": ".py",
   "mimetype": "text/x-python",
   "name": "python",
   "nbconvert_exporter": "python",
   "pygments_lexer": "ipython3",
   "version": "3.8.13 (default, Oct  4 2022, 14:00:32) \n[GCC 9.4.0]"
  },
  "toc": {
   "base_numbering": 1,
   "nav_menu": {},
   "number_sections": true,
   "sideBar": true,
   "skip_h1_title": false,
   "title_cell": "Table of Contents",
   "title_sidebar": "Contents",
   "toc_cell": false,
   "toc_position": {},
   "toc_section_display": true,
   "toc_window_display": false
  },
  "varInspector": {
   "cols": {
    "lenName": 16,
    "lenType": 16,
    "lenVar": 40
   },
   "kernels_config": {
    "python": {
     "delete_cmd_postfix": "",
     "delete_cmd_prefix": "del ",
     "library": "var_list.py",
     "varRefreshCmd": "print(var_dic_list())"
    },
    "r": {
     "delete_cmd_postfix": ") ",
     "delete_cmd_prefix": "rm(",
     "library": "var_list.r",
     "varRefreshCmd": "cat(var_dic_list()) "
    }
   },
   "types_to_exclude": [
    "module",
    "function",
    "builtin_function_or_method",
    "instance",
    "_Feature"
   ],
   "window_display": false
  },
  "vscode": {
   "interpreter": {
    "hash": "9ac03a0a6051494cc606d484d27d20fce22fb7b4d169f583271e11d5ba46a56e"
   }
  }
 },
 "nbformat": 4,
 "nbformat_minor": 4
}
