{
 "cells": [
  {
   "cell_type": "markdown",
   "metadata": {},
   "source": [
    "# La récursivité\n",
    "\n",
    "La notion de récursivité est une notion essentielle, et pas seulement en informatique.\n",
    "\n",
    "En effet, pour expliquer une situation, on utilise souvent cette même situation à un état précédent.\n",
    "\n",
    "## Introduction :\n",
    "\n",
    "<h3 class='fa fa-cog' style=\"color: MediumSeaGreen\"> A faire vous même n°1 :</h3>\n",
    "\n",
    "- Regarder cette vidéo d'introduction..."
   ]
  },
  {
   "cell_type": "code",
   "execution_count": 1,
   "metadata": {},
   "outputs": [
    {
     "data": {
      "text/html": [
       "<center>\n",
       "    <iframe width=\"560\" height=\"315\" src=\"https://www.youtube-nocookie.com/embed/U3nGNJTxYc4?rel=0\" frameborder=\"0\" allow=\"accelerometer; autoplay; clipboard-write; encrypted-media; gyroscope; picture-in-picture\" allowfullscreen></iframe>\n",
       "</center>\n"
      ],
      "text/plain": [
       "<IPython.core.display.HTML object>"
      ]
     },
     "metadata": {},
     "output_type": "display_data"
    }
   ],
   "source": [
    "%%HTML\n",
    "<center>\n",
    "    <iframe width=\"560\" height=\"315\" src=\"https://www.youtube-nocookie.com/embed/U3nGNJTxYc4?rel=0\" frameborder=\"0\" allow=\"accelerometer; autoplay; clipboard-write; encrypted-media; gyroscope; picture-in-picture\" allowfullscreen></iframe>\n",
    "</center>"
   ]
  },
  {
   "cell_type": "markdown",
   "metadata": {},
   "source": [
    "**La récursivité est donc une méthode de résolution de problèmes qui consiste à décomposer le problème en sous-problèmes identiques de plus en plus petits jusqu’à obtenir un problème suffisamment petit pour qu’il puisse être résolu de manière triviale.**\n",
    "\n",
    "<img src=\"https://ericecmorlaix.github.io/img/Recursif-Gru.jpg\" alt=\"Recursif-Gru.jpg\" title=\"Gru explique son plan récursif\" width=60% >"
   ]
  },
  {
   "cell_type": "markdown",
   "metadata": {},
   "source": [
    "## Exemple :\n",
    "\n",
    "Étant donné une liste d’entiers `L=[2,12,1,8,5,10,20]`, calculer la somme des éléments de cette liste.\n",
    "\n",
    "Comme les listes sont itérables, nous pouvons simplement résoudre ce problème avec l’un ou l'autre de ces algorithmes que l’on dit **itératifs** :\n",
    "\n",
    "```pseudo\n",
    "Données : liste ← une liste d’entiers\n",
    "fonction somme_1(liste)\n",
    "    S ← 0\n",
    "    n ← longueur de la liste\n",
    "    Pour i allant de 0 à n faire\n",
    "        S ← S + liste[i]\n",
    "    renvoyer S\n",
    "```\n",
    "\n",
    "OU\n",
    "\n",
    "```pseudo\n",
    "Données : liste ← une liste d’entiers\n",
    "fonction somme_2(liste)\n",
    "    S ← 0\n",
    "    Pour chaque element de liste faire\n",
    "    S ← S + element\n",
    "renvoyer S\n",
    "```\n",
    "\n",
    "OU\n",
    "\n",
    "```pseudo\n",
    "Données : liste ← une liste d’entiers\n",
    "fonction somme_3(liste)\n",
    "    S ← 0\n",
    "    i ← 0\n",
    "    Tant que i < longueur de la liste \n",
    "        S ← S + liste[i]\n",
    "        i ← i + 1\n",
    "renvoyer S\n",
    "```\n",
    "\n",
    "<h3 class='fa fa-code' style=\"color: MediumSeaGreen\"> A faire vous même n°2 :</h3>\n",
    "\n",
    "- Pour vous échauffer, implémenter en Python ces trois algorithmes itératifs et tester les :"
   ]
  },
  {
   "cell_type": "code",
   "execution_count": 6,
   "metadata": {},
   "outputs": [],
   "source": [
    "def somme_1(liste):\n",
    "    s = 0\n",
    "    for i in range(len(liste)):\n",
    "        s += liste[i]\n",
    "    return s\n",
    "\n",
    "def somme_2(liste):\n",
    "    s = 0\n",
    "    for element in liste:\n",
    "        s += element\n",
    "    return s\n",
    "\n",
    "def somme_3(liste):\n",
    "    s = 0\n",
    "    i = 0\n",
    "    while i < len(liste):\n",
    "        s += liste[i]\n",
    "        i += 1\n",
    "    return s"
   ]
  },
  {
   "cell_type": "code",
   "execution_count": 7,
   "metadata": {},
   "outputs": [
    {
     "name": "stdout",
     "output_type": "stream",
     "text": [
      "Test concluant !\n"
     ]
    }
   ],
   "source": [
    "assert somme_1([2,12,1,8,5,10,20]) == 58, \"Test non concluant !\"\n",
    "print(\"Test concluant !\")"
   ]
  },
  {
   "cell_type": "code",
   "execution_count": 8,
   "metadata": {},
   "outputs": [
    {
     "name": "stdout",
     "output_type": "stream",
     "text": [
      "Test concluant !\n"
     ]
    }
   ],
   "source": [
    "assert somme_2([2,12,1,8,5,10,20]) == 58, \"Test non concluant !\"\n",
    "print(\"Test concluant !\")"
   ]
  },
  {
   "cell_type": "code",
   "execution_count": 9,
   "metadata": {},
   "outputs": [
    {
     "name": "stdout",
     "output_type": "stream",
     "text": [
      "Test concluant !\n"
     ]
    }
   ],
   "source": [
    "assert somme_3([2,12,1,8,5,10,20]) == 58, \"Test non concluant !\"\n",
    "print(\"Test concluant !\")"
   ]
  },
  {
   "cell_type": "markdown",
   "metadata": {},
   "source": [
    "Supposons maintenant que nous n’ayons pas la possibilité de faire de \"boucles\".\n",
    "\n",
    "On peut alors aborder le problème sous un autre angle :\n",
    "\n",
    "> La somme des termes de cette liste est: 2 + ( la somme des termes de [12,1,8,5,10,20])\n",
    ">\n",
    "> Soit : 2 + (12 + (la somme des termes de [1,8,5,10,20])\n",
    ">\n",
    "> et ainsi de suite... jusqu’à : 2 + (12 + (1 + (8 + (5 + (10 + ( la somme des termes de [20]))))))\n",
    ">\n",
    "> il est clair que : la somme des termes de [20] est 20\n",
    ">\n",
    "> Au final le calcul à faire est : 2 + (12 + (1 + (8 + (5 + (10 + (20)))))) = 58\n",
    "\n",
    "Considérons alors une fonction `sommeliste(liste)` et qui renvoie le résultat de la somme des éléments de la liste.\n",
    "\n",
    "L’algorithme ci-dessous que l’on dit **récursif** réalise cette seconde approche:\n",
    "\n",
    "```pseudo\n",
    "Données : liste ← une liste d’entiers\n",
    "fonction sommeliste(liste)\n",
    "    Si la longueur de la liste est égale à 1 alors\n",
    "        renvoyer liste[0]\n",
    "    Sinon\n",
    "        renvoyer liste[0] + sommeliste(liste[1:])\n",
    "```\n",
    "\n",
    "<h3 class='fa fa-code' style=\"color: MediumSeaGreen\"> A faire vous même n°3 :</h3>\n",
    "\n",
    "- Implémenter en Python cette fonction et la tester également :"
   ]
  },
  {
   "cell_type": "code",
   "execution_count": 10,
   "metadata": {},
   "outputs": [],
   "source": [
    "def sommeliste(liste):\n",
    "    if len(liste) == 1:\n",
    "        return liste[0]\n",
    "    else:\n",
    "        return liste[0] + sommeliste(liste[1:])"
   ]
  },
  {
   "cell_type": "code",
   "execution_count": 12,
   "metadata": {},
   "outputs": [
    {
     "name": "stdout",
     "output_type": "stream",
     "text": [
      "Test concluant !\n"
     ]
    }
   ],
   "source": [
    "assert sommeliste([2,12,1,8,5,10,20]) == 58, \"Test non concluant\"\n",
    "print(\"Test concluant !\")"
   ]
  },
  {
   "cell_type": "markdown",
   "metadata": {},
   "source": [
    "<h3 class='fa fa-cog' style=\"color: MediumSeaGreen\"> A faire vous même n°4 :</h3>\n",
    "\n",
    "- Comparer les vitesses d’exécutions des programmes version itérative et version récursive de l’exemple précédent.\n",
    "\n",
    "> Pour tester la vitesse d’exécution d’une fonction on utilise le module timeit, comme le montre le code ci-dessous pour une liste de 1000 entiers choisis aléatoirement entre 0 et 100 avec le module random.\n",
    "\n"
   ]
  },
  {
   "cell_type": "code",
   "execution_count": 15,
   "metadata": {},
   "outputs": [
    {
     "name": "stdout",
     "output_type": "stream",
     "text": [
      "50100\n",
      "0.0069607389996235725\n",
      "50100\n",
      "0.00011191999874426983\n"
     ]
    }
   ],
   "source": [
    "from timeit import default_timer as timer\n",
    "from random import randint\n",
    "\n",
    "# Ajouter les codes des deux fonctions à comparer ici\n",
    "\n",
    "def somme(liste):\n",
    "    s = 0\n",
    "    for element in liste:\n",
    "        s += element\n",
    "    return s\n",
    "\n",
    "def sommeliste(liste):\n",
    "    if len(liste) == 1:\n",
    "        return liste[0]\n",
    "    else:\n",
    "        return liste[0] + sommeliste(liste[1:])\n",
    "\n",
    "\n",
    "L=[randint(0,100) for i in range(1000)]\n",
    "\n",
    "debut = timer()\n",
    "print(sommeliste(L))\n",
    "fin = timer()\n",
    "print(fin-debut)\n",
    "debut = timer()\n",
    "print(somme(L))\n",
    "fin = timer()\n",
    "print(fin - debut)"
   ]
  },
  {
   "cell_type": "markdown",
   "metadata": {},
   "source": [
    "- Que pouvez-vous en conclure (pour cet exemple)?\n",
    "\n",
    "D'après cet exemple, nous pouvons constater que la version récursive du programme sommeliste est plus rapide que sa version itérative."
   ]
  },
  {
   "cell_type": "markdown",
   "metadata": {},
   "source": [
    "## Complexité et fonctionnement d'un programme récursif :\n",
    "\n",
    "<h3 class='fa fa-cog' style=\"color: MediumSeaGreen\"> A faire vous même n°5 :</h3>\n",
    "\n",
    "- Observer le fonctionnement des appels récursifs de la fonction `sommeliste(liste)` dans votre programme avec l'outil [Python tutor](http://pythontutor.com/) permet de visualiser pas à pas ce que fait votre script.\n",
    "\n",
    "> Il est possible de l'utiliser dans un notebook jupyter pour celà il faut :\n",
    "    > 1. l'installer (si ce n'est pas déjà fait) : ``%pip install metakernel``"
   ]
  },
  {
   "cell_type": "code",
   "execution_count": 16,
   "metadata": {},
   "outputs": [
    {
     "name": "stdout",
     "output_type": "stream",
     "text": [
      "Collecting metakernel\n",
      "  Downloading metakernel-0.29.2-py3-none-any.whl (217 kB)\n",
      "\u001b[2K     \u001b[90m━━━━━━━━━━━━━━━━━━━━━━━━━━━━━━━━━━━━━━━\u001b[0m \u001b[32m217.1/217.1 kB\u001b[0m \u001b[31m9.2 MB/s\u001b[0m eta \u001b[36m0:00:00\u001b[0m\n",
      "\u001b[?25hRequirement already satisfied: jedi>=0.18 in /home/gitpod/.pyenv/versions/3.8.13/lib/python3.8/site-packages (from metakernel) (0.18.1)\n",
      "Requirement already satisfied: pexpect>=4.8 in /home/gitpod/.pyenv/versions/3.8.13/lib/python3.8/site-packages (from metakernel) (4.8.0)\n",
      "Requirement already satisfied: jupyter-core>=4.9.2 in /home/gitpod/.pyenv/versions/3.8.13/lib/python3.8/site-packages (from metakernel) (4.11.1)\n",
      "Requirement already satisfied: ipykernel>=5.5.6 in /home/gitpod/.pyenv/versions/3.8.13/lib/python3.8/site-packages (from metakernel) (6.16.0)\n",
      "Requirement already satisfied: matplotlib-inline>=0.1 in /home/gitpod/.pyenv/versions/3.8.13/lib/python3.8/site-packages (from ipykernel>=5.5.6->metakernel) (0.1.6)\n",
      "Requirement already satisfied: nest-asyncio in /home/gitpod/.pyenv/versions/3.8.13/lib/python3.8/site-packages (from ipykernel>=5.5.6->metakernel) (1.5.6)\n",
      "Requirement already satisfied: jupyter-client>=6.1.12 in /home/gitpod/.pyenv/versions/3.8.13/lib/python3.8/site-packages (from ipykernel>=5.5.6->metakernel) (7.3.5)\n",
      "Requirement already satisfied: packaging in /home/gitpod/.pyenv/versions/3.8.13/lib/python3.8/site-packages (from ipykernel>=5.5.6->metakernel) (21.3)\n",
      "Requirement already satisfied: pyzmq>=17 in /home/gitpod/.pyenv/versions/3.8.13/lib/python3.8/site-packages (from ipykernel>=5.5.6->metakernel) (24.0.1)\n",
      "Requirement already satisfied: psutil in /home/gitpod/.pyenv/versions/3.8.13/lib/python3.8/site-packages (from ipykernel>=5.5.6->metakernel) (5.9.2)\n",
      "Requirement already satisfied: traitlets>=5.1.0 in /home/gitpod/.pyenv/versions/3.8.13/lib/python3.8/site-packages (from ipykernel>=5.5.6->metakernel) (5.4.0)\n",
      "Requirement already satisfied: ipython>=7.23.1 in /home/gitpod/.pyenv/versions/3.8.13/lib/python3.8/site-packages (from ipykernel>=5.5.6->metakernel) (8.5.0)\n",
      "Requirement already satisfied: debugpy>=1.0 in /home/gitpod/.pyenv/versions/3.8.13/lib/python3.8/site-packages (from ipykernel>=5.5.6->metakernel) (1.6.3)\n",
      "Requirement already satisfied: tornado>=6.1 in /home/gitpod/.pyenv/versions/3.8.13/lib/python3.8/site-packages (from ipykernel>=5.5.6->metakernel) (6.2)\n",
      "Requirement already satisfied: parso<0.9.0,>=0.8.0 in /home/gitpod/.pyenv/versions/3.8.13/lib/python3.8/site-packages (from jedi>=0.18->metakernel) (0.8.3)\n",
      "Requirement already satisfied: ptyprocess>=0.5 in /home/gitpod/.pyenv/versions/3.8.13/lib/python3.8/site-packages (from pexpect>=4.8->metakernel) (0.7.0)\n",
      "Requirement already satisfied: backcall in /home/gitpod/.pyenv/versions/3.8.13/lib/python3.8/site-packages (from ipython>=7.23.1->ipykernel>=5.5.6->metakernel) (0.2.0)\n",
      "Requirement already satisfied: pygments>=2.4.0 in /home/gitpod/.pyenv/versions/3.8.13/lib/python3.8/site-packages (from ipython>=7.23.1->ipykernel>=5.5.6->metakernel) (2.13.0)\n",
      "Requirement already satisfied: decorator in /home/gitpod/.pyenv/versions/3.8.13/lib/python3.8/site-packages (from ipython>=7.23.1->ipykernel>=5.5.6->metakernel) (5.1.1)\n",
      "Requirement already satisfied: prompt-toolkit<3.1.0,>3.0.1 in /home/gitpod/.pyenv/versions/3.8.13/lib/python3.8/site-packages (from ipython>=7.23.1->ipykernel>=5.5.6->metakernel) (3.0.31)\n",
      "Requirement already satisfied: pickleshare in /home/gitpod/.pyenv/versions/3.8.13/lib/python3.8/site-packages (from ipython>=7.23.1->ipykernel>=5.5.6->metakernel) (0.7.5)\n",
      "Requirement already satisfied: stack-data in /home/gitpod/.pyenv/versions/3.8.13/lib/python3.8/site-packages (from ipython>=7.23.1->ipykernel>=5.5.6->metakernel) (0.5.1)\n",
      "Requirement already satisfied: entrypoints in /home/gitpod/.pyenv/versions/3.8.13/lib/python3.8/site-packages (from jupyter-client>=6.1.12->ipykernel>=5.5.6->metakernel) (0.4)\n",
      "Requirement already satisfied: python-dateutil>=2.8.2 in /home/gitpod/.pyenv/versions/3.8.13/lib/python3.8/site-packages (from jupyter-client>=6.1.12->ipykernel>=5.5.6->metakernel) (2.8.2)\n",
      "Requirement already satisfied: pyparsing!=3.0.5,>=2.0.2 in /home/gitpod/.pyenv/versions/3.8.13/lib/python3.8/site-packages (from packaging->ipykernel>=5.5.6->metakernel) (3.0.9)\n",
      "Requirement already satisfied: wcwidth in /home/gitpod/.pyenv/versions/3.8.13/lib/python3.8/site-packages (from prompt-toolkit<3.1.0,>3.0.1->ipython>=7.23.1->ipykernel>=5.5.6->metakernel) (0.2.5)\n",
      "Requirement already satisfied: six>=1.5 in /home/gitpod/.pyenv/versions/3.8.13/lib/python3.8/site-packages (from python-dateutil>=2.8.2->jupyter-client>=6.1.12->ipykernel>=5.5.6->metakernel) (1.16.0)\n",
      "Requirement already satisfied: pure-eval in /home/gitpod/.pyenv/versions/3.8.13/lib/python3.8/site-packages (from stack-data->ipython>=7.23.1->ipykernel>=5.5.6->metakernel) (0.2.2)\n",
      "Requirement already satisfied: executing in /home/gitpod/.pyenv/versions/3.8.13/lib/python3.8/site-packages (from stack-data->ipython>=7.23.1->ipykernel>=5.5.6->metakernel) (1.1.0)\n",
      "Requirement already satisfied: asttokens in /home/gitpod/.pyenv/versions/3.8.13/lib/python3.8/site-packages (from stack-data->ipython>=7.23.1->ipykernel>=5.5.6->metakernel) (2.0.8)\n",
      "Installing collected packages: metakernel\n",
      "Successfully installed metakernel-0.29.2\n",
      "\n",
      "\u001b[1m[\u001b[0m\u001b[34;49mnotice\u001b[0m\u001b[1;39;49m]\u001b[0m\u001b[39;49m A new release of pip available: \u001b[0m\u001b[31;49m22.2.2\u001b[0m\u001b[39;49m -> \u001b[0m\u001b[32;49m22.3.1\u001b[0m\n",
      "\u001b[1m[\u001b[0m\u001b[34;49mnotice\u001b[0m\u001b[1;39;49m]\u001b[0m\u001b[39;49m To update, run: \u001b[0m\u001b[32;49mpip install --upgrade pip\u001b[0m\n",
      "Note: you may need to restart the kernel to use updated packages.\n"
     ]
    }
   ],
   "source": [
    "%pip install metakernel"
   ]
  },
  {
   "cell_type": "markdown",
   "metadata": {},
   "source": [
    ">\n",
    "    > 2. puis exécuter les instructions de la cellule suivante :"
   ]
  },
  {
   "cell_type": "code",
   "execution_count": 17,
   "metadata": {},
   "outputs": [],
   "source": [
    "from metakernel import register_ipython_magics\n",
    "register_ipython_magics()"
   ]
  },
  {
   "cell_type": "markdown",
   "metadata": {},
   "source": [
    ">    \n",
    "    >3. inscrire la commande ``%%tutor`` devant le script à tester dans la cellule :"
   ]
  },
  {
   "cell_type": "code",
   "execution_count": 19,
   "metadata": {},
   "outputs": [
    {
     "data": {
      "text/html": [
       "\n",
       "        <iframe\n",
       "            width=\"100%\"\n",
       "            height=\"500\"\n",
       "            src=\"https://pythontutor.com/iframe-embed.html#code=%23%20Script%20%C3%A0%20tester%20%3A%0Adef%20sommeliste%28liste%29%3A%0A%20%20%20%20if%20len%28liste%29%20%3D%3D%201%3A%0A%20%20%20%20%20%20%20%20return%20liste%5B0%5D%0A%20%20%20%20else%3A%0A%20%20%20%20%20%20%20%20return%20liste%5B0%5D%20%2B%20sommeliste%28liste%5B1%3A%5D%29%0A%0Aprint%28sommeliste%28%5B2%2C12%2C1%2C8%2C5%2C10%2C20%5D%29%29%0A&origin=opt-frontend.js&cumulative=false&heapPrimitives=false&textReferences=false&py=3&rawInputLstJSON=%5B%5D&curInstr=0&codeDivWidth=350&codeDivHeight=400\"\n",
       "            frameborder=\"0\"\n",
       "            allowfullscreen\n",
       "            \n",
       "        ></iframe>\n",
       "        "
      ],
      "text/plain": [
       "<IPython.lib.display.IFrame at 0x7fede81b7d90>"
      ]
     },
     "metadata": {},
     "output_type": "display_data"
    }
   ],
   "source": [
    "%%tutor\n",
    "# Script à tester :\n",
    "def sommeliste(liste):\n",
    "    if len(liste) == 1:\n",
    "        return liste[0]\n",
    "    else:\n",
    "        return liste[0] + sommeliste(liste[1:])\n",
    "\n",
    "print(sommeliste([2,12,1,8,5,10,20]))"
   ]
  },
  {
   "cell_type": "markdown",
   "metadata": {},
   "source": [
    "Un programme est une suite d’instructions, son exécution peut être représentée par un parcours de chemin ayant une origine et une extrémité.\n",
    "\n",
    "Lors de l’appel d’une fonction, cette suite est interrompue le temps de cette fonction, avant de reprendre à l’endroit où le programme s’est arrêté.\n",
    "\n",
    "<img src=\"https://ericecmorlaix.github.io/img/Recursif-Pile_1.png\" alt=\"Recursif-Pile_1.png\" title=\"Pile d'exécution : appel fonction\" width=60% >\n",
    "\n",
    "Au moment où débute cette bifurcation, le processeur sauvegarde un certain nombre d’informations : adresse de retour, état des\n",
    "variables, etc.\n",
    "\n",
    "Toutes ces données forment ce qu’on appelle le contexte du programme, et elles sont stockées dans ce qu’on appelle la pile d’exécution.\n",
    "\n",
    "À la fin de l’exécution de la fonction, le contexte est sorti pour permettre la poursuite de l’exécution du programme.\n",
    "\n",
    "<img src=\"https://ericecmorlaix.github.io/img/Recursif-Pile_2.png\" alt=\"Recursif-Pile_.png\" title=\"Pile d'exécution : appels récursifs\" width=60% >\n",
    "\n",
    "Lors de l’exécution d’une fonction récursive, chaque appel récursif conduit, au moment où il se produit, à un empilement du contexte dans la pile d’exécution.\n",
    "\n",
    "Lorsqu’au bout de n appels se produit la condition d’arrêt, les différents contextes sont progressivement dépilés pour poursuivre l’exécution de la fonction.\n",
    "\n",
    "Il est important de prendre conscience qu’**une fonction récursive s’accompagne d’une complexité qui va croître avec le nombre d’appels récursifs** (en général linéairement, mais ce n’est pas une règle, cela dépend du contenu du contexte)."
   ]
  },
  {
   "cell_type": "markdown",
   "metadata": {},
   "source": [
    "## Les trois règles...\n",
    "\n",
    "A l'instar des robots d’[Azimov](https://fr.wikipedia.org/wiki/Trois_lois_de_la_robotique), les algorithmes récursifs doivent obéir à trois règles :\n",
    "\n",
    "1. Un algorithme récursif doit avoir un \" état trivial \", cela permet d’avoir une condition d’arrêt.\n",
    "\n",
    "> Dans notre exemple, il s’agit de : _si la liste est de longueur 1 alors on renvoie le seul élément de la liste_.\n",
    "\n",
    "2. Un algorithme récursif doit conduire vers cet \" état d’arrêt \", cela permet de ne pas faire une infinité d’appels récursifs.\n",
    "\n",
    "> Dans notre exemple, à chaque appel récursif, la liste est diminuée d’un élément donc nécessairement elle finira par n’en n’avoir plus qu’un.\n",
    "\n",
    "3. Un algorithme récursif s’appelle lui même..."
   ]
  },
  {
   "cell_type": "markdown",
   "metadata": {},
   "source": [
    "## Itératif vs Récursif\n",
    "\n",
    "Il n’existe pas de réponse définitive à la question de savoir si un algorithme récursif est préférable à un algorithme itératif ou le contraire.\n",
    "\n",
    "Il a été prouvé que ces deux paradigmes de programmation sont équivalents ; autrement dit, tout algorithme itératif possède une version récursive, et réciproquement.\n",
    "\n",
    "Le choix du langage peut aussi avoir son importance : un langage fonctionnel est conçu pour exploiter la récursivité et le programmeur est naturellement amené à choisir la version récursive de l’algorithme qu’il souhaite écrire.\n",
    "\n",
    "À l’inverse, Python, même s’il l’autorise, ne favorise pas l’écriture récursive (limitation basse (1000 par défaut) du nombre\n",
    "d’appels récursifs).\n",
    "\n",
    "Enfin, le choix d’écrire une fonction récursive ou itérative peut dépendre du problème à résoudre : certains problèmes se résolvent particulièrement simplement sous forme récursive."
   ]
  },
  {
   "cell_type": "markdown",
   "metadata": {},
   "source": [
    "<h2 class='fa fa-code' style=\"color: purple\"> Application 1 : version récursive du convertisseur...</h2>\n",
    "\n",
    "\n",
    "> ### Petit rappel :\n",
    ">\n",
    ">Une méthode de conversion consiste à diviser le nombre décimal à convertir par la base b et conserver le reste de la division. Le quotient obtenu est divisé par b et conserver le reste. Il faut répéter l’opération sur chaque quotient obtenu.\n",
    ">\n",
    "> Par exemple, pour la conversion : $91$ = $01011011_2$\n",
    ">\n",
    "><img src=\"https://ericecmorlaix.github.io/img/Stepper-ConversionBinaire2.svg\" alt=\"ConversionBinaire2\">\n",
    ">\n",
    ">Les restes successifs sont écrits, en commençant par le dernier, de la gauche vers la droite. Cette méthode est dite « Méthode des divisions successives ».\n",
    "\n",
    "Voici un programme itératif qui réalise ce changement de base :"
   ]
  },
  {
   "cell_type": "code",
   "execution_count": 20,
   "metadata": {},
   "outputs": [],
   "source": [
    "def decTob(n,b):\n",
    "    assert (b > 1 and b < 17) , \"b doit être compris entre 2 et 16\"\n",
    "    signes = [\"0\",\"1\",\"2\",\"3\",\"4\",\"5\",\"6\",\"7\",\"8\",\"9\",\"A\",\"B\",\"C\",\"D\",\"E\",\"F\"]\n",
    "    mot = \"\"\n",
    "    while n != 0:\n",
    "        mot = signes[n % b] + mot\n",
    "        n = n // b\n",
    "    return mot"
   ]
  },
  {
   "cell_type": "markdown",
   "metadata": {},
   "source": [
    "Analysons ce programme :\n",
    "\n",
    "- La première ligne permet de s’assurer que les conditions sur b sont assurées ;\n",
    "- La liste signes nous permet d’avoir accès aux symboles représentant les nombres jusqu’à la base 16 ;\n",
    "- On utilisera la variable mot de type str pour le résultat ;\n",
    "- Tant que n != 0 (tant que le quotient n’est pas nul), on ajoute par la gauche le reste au résultat et on remplace n par le nouveau quotient n // b.\n",
    "\n",
    "<h3 class='fa fa-cog' style=\"color: MediumSeaGreen\"> A faire vous même n°6 :</h3>\n",
    "\n",
    "- Tester ce programme avec différentes bases pour vérifier que vous obtenez les mêmes résultats qu'avec :\n",
    "```python\n",
    "print(bin(77)[2:]) ## affiche 77 en base 2\n",
    "print(oct(77)[2:]) ## affiche 77 en base 8\n",
    "print(hex(77)[2:]) ## affiche 77 en base 16\n",
    "```"
   ]
  },
  {
   "cell_type": "code",
   "execution_count": 24,
   "metadata": {},
   "outputs": [
    {
     "name": "stdout",
     "output_type": "stream",
     "text": [
      "1001101\n"
     ]
    },
    {
     "data": {
      "text/plain": [
       "'1001101'"
      ]
     },
     "execution_count": 24,
     "metadata": {},
     "output_type": "execute_result"
    }
   ],
   "source": [
    "print(bin(77)[2:])\n",
    "decTob(77, 2)"
   ]
  },
  {
   "cell_type": "code",
   "execution_count": 26,
   "metadata": {},
   "outputs": [
    {
     "name": "stdout",
     "output_type": "stream",
     "text": [
      "115\n"
     ]
    },
    {
     "data": {
      "text/plain": [
       "'115'"
      ]
     },
     "execution_count": 26,
     "metadata": {},
     "output_type": "execute_result"
    }
   ],
   "source": [
    "print(oct(77)[2:])\n",
    "decTob(77, 8)"
   ]
  },
  {
   "cell_type": "code",
   "execution_count": 27,
   "metadata": {},
   "outputs": [
    {
     "name": "stdout",
     "output_type": "stream",
     "text": [
      "4d\n"
     ]
    },
    {
     "data": {
      "text/plain": [
       "'4D'"
      ]
     },
     "execution_count": 27,
     "metadata": {},
     "output_type": "execute_result"
    }
   ],
   "source": [
    "print(hex(77)[2:])\n",
    "decTob(77, 16)"
   ]
  },
  {
   "cell_type": "markdown",
   "metadata": {},
   "source": [
    "Recherchons maintenant une version récursive de ce programme.\n",
    "\n",
    "L’idée est : \n",
    "\n",
    "```python\n",
    "decTobr(n, b) = decTobr(n // b, b) + reste\n",
    "```\n",
    "\n",
    "Pour ce faire suivons les trois règles :\n",
    "\n",
    "1. Un algorithme récursif doit avoir un \"état trivial\", cela permet d’avoir une condition d’arrêt.\n",
    "\n",
    "2. Un algorithme récursif doit conduire vers cet \"état d’arrêt\", cela permet de ne pas faire une infinité d’appels récursifs.\n",
    "\n",
    "3. Un algorithme récursif s’appelle lui même...\n",
    "\n",
    "\n",
    "<h3 class='fa fa-code' style=\"color: darkorange\"> A faire vous même n°7 :</h3>\n",
    "\n",
    "- Répondre aux questions :\n",
    "\n",
    "Q1) Dans notre cas quel est \"l’état trivial\" ?\n",
    "\n",
    "\n",
    "Il s’agit de : si n est égal à 0 alors on renvoie le mot.\n",
    "\n",
    "Q2) Expliquer ce qui va conduire à cet \"état trivial\" ?\n",
    "\n",
    "A chaque fois que la fonction est executée, n est réduit jusqu'à atteindre 0.\n",
    "\n",
    "- Réaliser une version récursive du programme précédent :"
   ]
  },
  {
   "cell_type": "code",
   "execution_count": 69,
   "metadata": {},
   "outputs": [],
   "source": [
    "def decTob_recursive(n, b):\n",
    "    assert (b > 1 and b < 17) , \"b doit être compris entre 2 et 16\"\n",
    "    signes = [\"0\",\"1\",\"2\",\"3\",\"4\",\"5\",\"6\",\"7\",\"8\",\"9\",\"A\",\"B\",\"C\",\"D\",\"E\",\"F\"]\n",
    "    mot = \"\"    \n",
    "    if n == 0:\n",
    "        return mot\n",
    "    else:\n",
    "        mot = decTob_recursive(n//b, b) + signes[n % b] + mot\n",
    "        return mot"
   ]
  },
  {
   "cell_type": "code",
   "execution_count": 70,
   "metadata": {},
   "outputs": [
    {
     "name": "stdout",
     "output_type": "stream",
     "text": [
      "1001101\n",
      "1001101\n"
     ]
    }
   ],
   "source": [
    "print(decTob(77, 2))\n",
    "print(decTob_recursive(77, 2))"
   ]
  },
  {
   "cell_type": "code",
   "execution_count": 73,
   "metadata": {},
   "outputs": [
    {
     "name": "stdout",
     "output_type": "stream",
     "text": [
      "115\n",
      "115\n"
     ]
    }
   ],
   "source": [
    "print(decTob(77, 8))\n",
    "print(decTob_recursive(77, 8))"
   ]
  },
  {
   "cell_type": "code",
   "execution_count": 74,
   "metadata": {},
   "outputs": [
    {
     "name": "stdout",
     "output_type": "stream",
     "text": [
      "4D\n",
      "4D\n"
     ]
    }
   ],
   "source": [
    "print(decTob(77, 16))\n",
    "print(decTob_recursive(77, 16))"
   ]
  },
  {
   "cell_type": "markdown",
   "metadata": {},
   "source": [
    "<h2 class='fa fa-graduation-cap' style=\"color: purple\"> Application 2 : Calculer le factoriel d'un nombre :</h2>\n",
    "\n",
    "\n",
    "Écrire les versions itérative et récursive de fonctions calculant $n!$ où ${n\\in\\mathbf{N}}$ ;\n",
    "\n",
    "sachant que : $n! = n × (n − 1) × (n − 2) × ... × 2 × 1 $ ;\n",
    "\n",
    "et que par définition $0! = 1$."
   ]
  },
  {
   "cell_type": "code",
   "execution_count": 5,
   "metadata": {},
   "outputs": [],
   "source": [
    "def factoriel(n):\n",
    "    fact = 1\n",
    "    for i in range(n):\n",
    "        fact *= i+1\n",
    "    return fact"
   ]
  },
  {
   "cell_type": "code",
   "execution_count": 8,
   "metadata": {},
   "outputs": [],
   "source": [
    "def factoriel_recursive(n):\n",
    "    if n == 0:\n",
    "        return 1\n",
    "    else:\n",
    "        return n*factoriel_recursive(n-1)"
   ]
  },
  {
   "cell_type": "code",
   "execution_count": 9,
   "metadata": {},
   "outputs": [
    {
     "name": "stdout",
     "output_type": "stream",
     "text": [
      "120\n",
      "120\n"
     ]
    }
   ],
   "source": [
    "print(factoriel(5))\n",
    "print(factoriel_recursive(5))"
   ]
  },
  {
   "cell_type": "markdown",
   "metadata": {},
   "source": [
    "<h2 class='fa fa-graduation-cap' style=\"color: purple\"> Application 3 : Les tours de Hanoï :</h2>\n",
    "\n",
    "Faire le [TP des tours de Hanoï](https://ericecmorlaix.github.io/pdf/res_tp_tour_de_hanoi.pdf)\n"
   ]
  },
  {
   "cell_type": "markdown",
   "metadata": {},
   "source": [
    "### Programme 1 :"
   ]
  },
  {
   "cell_type": "code",
   "execution_count": 1,
   "metadata": {},
   "outputs": [],
   "source": [
    "def Hanoi(n, dep, inter, arr):\n",
    "    if n == 0:\n",
    "        return None\n",
    "    else:\n",
    "        Hanoi(n-1, dep, arr, inter)\n",
    "        print(f\"déplacement d'un disque de {dep} vers {arr}\")\n",
    "        Hanoi(n-1, inter, dep, arr)"
   ]
  },
  {
   "cell_type": "code",
   "execution_count": 2,
   "metadata": {},
   "outputs": [
    {
     "name": "stdout",
     "output_type": "stream",
     "text": [
      "déplacement d'un disque de Tige 1 vers Tige 3\n",
      "déplacement d'un disque de Tige 1 vers Tige 2\n",
      "déplacement d'un disque de Tige 3 vers Tige 2\n",
      "déplacement d'un disque de Tige 1 vers Tige 3\n",
      "déplacement d'un disque de Tige 2 vers Tige 1\n",
      "déplacement d'un disque de Tige 2 vers Tige 3\n",
      "déplacement d'un disque de Tige 1 vers Tige 3\n"
     ]
    }
   ],
   "source": [
    "Hanoi(3, \"Tige 1\", \"Tige 2\", \"Tige 3\")"
   ]
  },
  {
   "cell_type": "markdown",
   "metadata": {},
   "source": [
    "### Programme 2 :"
   ]
  },
  {
   "cell_type": "code",
   "execution_count": null,
   "metadata": {},
   "outputs": [],
   "source": [
    "def affichage(tours) :\n",
    "    d = len(tours[’départ’])\n",
    "    i = len(tours[’intermédiaire’])\n",
    "    a = len(tours[’arrivée’])\n",
    "    hauteur = max(d, i, a)\n",
    "    for h in range(hauteur, 0, -1) :\n",
    "        if d >= h :\n",
    "            print( tours[’départ’][h-1], end=’ ’)\n",
    "    else : \n",
    "        print(’ ’, end=’ ’)\n",
    "    if i >= h : \n",
    "        print( tours[’intermédiaire’][h-1], end=’ ’)\n",
    "    else : \n",
    "        print(’ ’, end=’ ’)\n",
    "    if a >= h : \n",
    "        print( tours[’arrivée’][h-1])\n",
    "    else : \n",
    "        print(’ ’)\n",
    "print(’\\u2AE0 \\u2AE0 \\u2AE0’)\n",
    "print(’---------------------------------------------------------------’)\n",
    "\n",
    "def Hanoi(n,dep=’départ’,inter=’intermédiaire’,arr=’arrivée’):\n",
    "    \"\"\" spécification à faire \"\"\"\n",
    "    if n==0:\n",
    "    # à compléter\n",
    "    else:\n",
    "    # à compléter\n",
    "    # à compléter\n",
    "    anneau_deplace = tours[dep].pop()\n",
    "    tours[arr].append(anneau_deplace)\n",
    "    affichage(tours)\n",
    "    # à compléter\n",
    "    n=4\n",
    "    tours = dict()\n",
    "    tours[’départ’] = [ j for j in range(n,0,-1) ]\n",
    "    tours[’intermédiaire’] = []\n",
    "    tours[’arrivée’] = []\n",
    "Hanoi(n)"
   ]
  },
  {
   "cell_type": "code",
   "execution_count": null,
   "metadata": {},
   "outputs": [],
   "source": []
  },
  {
   "cell_type": "markdown",
   "metadata": {},
   "source": [
    "****\n",
    "## Références aux programmes :\n",
    "\n",
    "<style type=\"text/css\">\n",
    ".tg  {border-collapse:collapse;border-spacing:0;}\n",
    ".tg td{font-family:Arial, sans-serif;font-size:14px;padding:10px 5px;border-style:solid;border-width:1px;overflow:hidden;word-break:normal;border-color:black;}\n",
    ".tg th{font-family:Arial, sans-serif;font-size:14px;font-weight:normal;padding:10px 5px;border-style:solid;border-width:1px;overflow:hidden;word-break:normal;border-color:black;}\n",
    ".tg .tg-cv16{font-weight:bold;background-color:#dae8fc;border-color:inherit;text-align:center}\n",
    ".tg .tg-xldj{border-color:inherit;text-align:left}\n",
    "</style>\n",
    "<h3 >Langages et programmation</h3> \n",
    "<table class=\"tg\">\n",
    "  <tr>\n",
    "    <th class=\"tg-cv16\">Contenus</th>\n",
    "    <th class=\"tg-cv16\">Capacités attendues</th>\n",
    "    <th class=\"tg-cv16\">Commentaires</th>\n",
    "  </tr>\n",
    "  <tr>\n",
    "    <td class=\"tg-xldj\">Récursivité.</td>\n",
    "    <td class=\"tg-xldj\">Écrire un programme récursif.<br>Analyser le fonctionnement d’un programme récursif.</td>\n",
    "    <td class=\"tg-xldj\">Des exemples relevant de domaines variés sont à privilégier.</td>\n",
    "  </tr>\n",
    "    \n",
    "</table>\n",
    "\n"
   ]
  },
  {
   "cell_type": "markdown",
   "metadata": {},
   "source": [
    "<a rel=\"license\" href=\"http://creativecommons.org/licenses/by-sa/4.0/\"><img alt=\"Licence Creative Commons\" style=\"border-width:0\" src=\"https://i.creativecommons.org/l/by-sa/4.0/88x31.png\" /></a><br />Ce document, basé sur le travail de Stephan VAN ZUIJLEN, est mis à disposition selon les termes de la <a rel=\"license\" href=\"http://creativecommons.org/licenses/by-sa/4.0/\">Licence Creative Commons Attribution -  Partage dans les Mêmes Conditions 4.0 International</a>.\n",
    "\n",
    "Pour toute question, suggestion ou commentaire : <a href=\"mailto:eric.madec@ecmorlaix.fr\">eric.madec@ecmorlaix.fr</a>"
   ]
  },
  {
   "cell_type": "code",
   "execution_count": null,
   "metadata": {},
   "outputs": [],
   "source": []
  }
 ],
 "metadata": {
  "kernelspec": {
   "display_name": "Python 3",
   "language": "python",
   "name": "python3"
  },
  "language_info": {
   "codemirror_mode": {
    "name": "ipython",
    "version": 3
   },
   "file_extension": ".py",
   "mimetype": "text/x-python",
   "name": "python",
   "nbconvert_exporter": "python",
   "pygments_lexer": "ipython3",
   "version": "3.8.13 (default, Oct  4 2022, 14:00:32) \n[GCC 9.4.0]"
  },
  "toc": {
   "base_numbering": 1,
   "nav_menu": {},
   "number_sections": true,
   "sideBar": true,
   "skip_h1_title": false,
   "title_cell": "Table of Contents",
   "title_sidebar": "Contents",
   "toc_cell": false,
   "toc_position": {},
   "toc_section_display": true,
   "toc_window_display": false
  },
  "varInspector": {
   "cols": {
    "lenName": 16,
    "lenType": 16,
    "lenVar": 40
   },
   "kernels_config": {
    "python": {
     "delete_cmd_postfix": "",
     "delete_cmd_prefix": "del ",
     "library": "var_list.py",
     "varRefreshCmd": "print(var_dic_list())"
    },
    "r": {
     "delete_cmd_postfix": ") ",
     "delete_cmd_prefix": "rm(",
     "library": "var_list.r",
     "varRefreshCmd": "cat(var_dic_list()) "
    }
   },
   "types_to_exclude": [
    "module",
    "function",
    "builtin_function_or_method",
    "instance",
    "_Feature"
   ],
   "window_display": false
  },
  "vscode": {
   "interpreter": {
    "hash": "9ac03a0a6051494cc606d484d27d20fce22fb7b4d169f583271e11d5ba46a56e"
   }
  }
 },
 "nbformat": 4,
 "nbformat_minor": 4
}
